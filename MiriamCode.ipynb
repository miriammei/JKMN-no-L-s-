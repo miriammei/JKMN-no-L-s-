{
 "cells": [
  {
   "cell_type": "code",
   "execution_count": 1,
   "id": "50fe0305",
   "metadata": {},
   "outputs": [],
   "source": [
    "import numpy as np\n",
    "import pandas as pd\n",
    "import matplotlib.pyplot as plt\n",
    "import seaborn as sns"
   ]
  },
  {
   "cell_type": "code",
   "execution_count": 2,
   "id": "7bb38121",
   "metadata": {},
   "outputs": [
    {
     "data": {
      "text/html": [
       "<div>\n",
       "<style scoped>\n",
       "    .dataframe tbody tr th:only-of-type {\n",
       "        vertical-align: middle;\n",
       "    }\n",
       "\n",
       "    .dataframe tbody tr th {\n",
       "        vertical-align: top;\n",
       "    }\n",
       "\n",
       "    .dataframe thead th {\n",
       "        text-align: right;\n",
       "    }\n",
       "</style>\n",
       "<table border=\"1\" class=\"dataframe\">\n",
       "  <thead>\n",
       "    <tr style=\"text-align: right;\">\n",
       "      <th></th>\n",
       "      <th>ZIP Code</th>\n",
       "      <th>Week Number</th>\n",
       "      <th>Week Start</th>\n",
       "      <th>Week End</th>\n",
       "      <th>Cases - Weekly</th>\n",
       "      <th>Cases - Cumulative</th>\n",
       "      <th>Case Rate - Weekly</th>\n",
       "      <th>Case Rate - Cumulative</th>\n",
       "      <th>Tests - Weekly</th>\n",
       "      <th>Tests - Cumulative</th>\n",
       "      <th>...</th>\n",
       "      <th>Test Rate - Cumulative</th>\n",
       "      <th>Percent Tested Positive - Weekly</th>\n",
       "      <th>Percent Tested Positive - Cumulative</th>\n",
       "      <th>Deaths - Weekly</th>\n",
       "      <th>Deaths - Cumulative</th>\n",
       "      <th>Death Rate - Weekly</th>\n",
       "      <th>Death Rate - Cumulative</th>\n",
       "      <th>Population</th>\n",
       "      <th>Row ID</th>\n",
       "      <th>ZIP Code Location</th>\n",
       "    </tr>\n",
       "  </thead>\n",
       "  <tbody>\n",
       "    <tr>\n",
       "      <th>0</th>\n",
       "      <td>60632</td>\n",
       "      <td>36</td>\n",
       "      <td>08/30/2020</td>\n",
       "      <td>09/05/2020</td>\n",
       "      <td>117.0</td>\n",
       "      <td>4282.0</td>\n",
       "      <td>128.0</td>\n",
       "      <td>4703.5</td>\n",
       "      <td>1446.0</td>\n",
       "      <td>25164</td>\n",
       "      <td>...</td>\n",
       "      <td>27640.9</td>\n",
       "      <td>0.1</td>\n",
       "      <td>0.2</td>\n",
       "      <td>1</td>\n",
       "      <td>100</td>\n",
       "      <td>1.1</td>\n",
       "      <td>109.8</td>\n",
       "      <td>91039</td>\n",
       "      <td>60632-2020-36</td>\n",
       "      <td>POINT (-87.711251 41.810038)</td>\n",
       "    </tr>\n",
       "    <tr>\n",
       "      <th>1</th>\n",
       "      <td>60601</td>\n",
       "      <td>17</td>\n",
       "      <td>04/19/2020</td>\n",
       "      <td>04/25/2020</td>\n",
       "      <td>7.0</td>\n",
       "      <td>45.0</td>\n",
       "      <td>48.0</td>\n",
       "      <td>306.6</td>\n",
       "      <td>35.0</td>\n",
       "      <td>197</td>\n",
       "      <td>...</td>\n",
       "      <td>1342.4</td>\n",
       "      <td>0.1</td>\n",
       "      <td>0.1</td>\n",
       "      <td>1</td>\n",
       "      <td>2</td>\n",
       "      <td>6.8</td>\n",
       "      <td>13.6</td>\n",
       "      <td>14675</td>\n",
       "      <td>60601-2020-17</td>\n",
       "      <td>POINT (-87.622844 41.886262)</td>\n",
       "    </tr>\n",
       "    <tr>\n",
       "      <th>2</th>\n",
       "      <td>60632</td>\n",
       "      <td>39</td>\n",
       "      <td>09/20/2020</td>\n",
       "      <td>09/26/2020</td>\n",
       "      <td>107.0</td>\n",
       "      <td>4617.0</td>\n",
       "      <td>118.0</td>\n",
       "      <td>5071.5</td>\n",
       "      <td>1355.0</td>\n",
       "      <td>29203</td>\n",
       "      <td>...</td>\n",
       "      <td>32077.5</td>\n",
       "      <td>0.1</td>\n",
       "      <td>0.2</td>\n",
       "      <td>3</td>\n",
       "      <td>103</td>\n",
       "      <td>3.3</td>\n",
       "      <td>113.1</td>\n",
       "      <td>91039</td>\n",
       "      <td>60632-2020-39</td>\n",
       "      <td>POINT (-87.711251 41.810038)</td>\n",
       "    </tr>\n",
       "    <tr>\n",
       "      <th>3</th>\n",
       "      <td>60632</td>\n",
       "      <td>49</td>\n",
       "      <td>11/29/2020</td>\n",
       "      <td>12/05/2020</td>\n",
       "      <td>615.0</td>\n",
       "      <td>9447.0</td>\n",
       "      <td>676.0</td>\n",
       "      <td>10376.9</td>\n",
       "      <td>2884.0</td>\n",
       "      <td>53923</td>\n",
       "      <td>...</td>\n",
       "      <td>59230.7</td>\n",
       "      <td>0.3</td>\n",
       "      <td>0.2</td>\n",
       "      <td>6</td>\n",
       "      <td>135</td>\n",
       "      <td>6.6</td>\n",
       "      <td>148.3</td>\n",
       "      <td>91039</td>\n",
       "      <td>60632-2020-49</td>\n",
       "      <td>POINT (-87.711251 41.810038)</td>\n",
       "    </tr>\n",
       "    <tr>\n",
       "      <th>4</th>\n",
       "      <td>60632</td>\n",
       "      <td>50</td>\n",
       "      <td>12/06/2020</td>\n",
       "      <td>12/12/2020</td>\n",
       "      <td>581.0</td>\n",
       "      <td>10028.0</td>\n",
       "      <td>638.0</td>\n",
       "      <td>11015.1</td>\n",
       "      <td>2848.0</td>\n",
       "      <td>56771</td>\n",
       "      <td>...</td>\n",
       "      <td>62359.0</td>\n",
       "      <td>0.2</td>\n",
       "      <td>0.2</td>\n",
       "      <td>10</td>\n",
       "      <td>145</td>\n",
       "      <td>11.0</td>\n",
       "      <td>159.3</td>\n",
       "      <td>91039</td>\n",
       "      <td>60632-2020-50</td>\n",
       "      <td>POINT (-87.711251 41.810038)</td>\n",
       "    </tr>\n",
       "    <tr>\n",
       "      <th>...</th>\n",
       "      <td>...</td>\n",
       "      <td>...</td>\n",
       "      <td>...</td>\n",
       "      <td>...</td>\n",
       "      <td>...</td>\n",
       "      <td>...</td>\n",
       "      <td>...</td>\n",
       "      <td>...</td>\n",
       "      <td>...</td>\n",
       "      <td>...</td>\n",
       "      <td>...</td>\n",
       "      <td>...</td>\n",
       "      <td>...</td>\n",
       "      <td>...</td>\n",
       "      <td>...</td>\n",
       "      <td>...</td>\n",
       "      <td>...</td>\n",
       "      <td>...</td>\n",
       "      <td>...</td>\n",
       "      <td>...</td>\n",
       "      <td>...</td>\n",
       "    </tr>\n",
       "    <tr>\n",
       "      <th>11275</th>\n",
       "      <td>60707</td>\n",
       "      <td>36</td>\n",
       "      <td>09/03/2023</td>\n",
       "      <td>09/09/2023</td>\n",
       "      <td>3.0</td>\n",
       "      <td>5951.0</td>\n",
       "      <td>7.0</td>\n",
       "      <td>13833.4</td>\n",
       "      <td>NaN</td>\n",
       "      <td>4414</td>\n",
       "      <td>...</td>\n",
       "      <td>10260.6</td>\n",
       "      <td>0.0</td>\n",
       "      <td>0.1</td>\n",
       "      <td>0</td>\n",
       "      <td>66</td>\n",
       "      <td>0.0</td>\n",
       "      <td>153.4</td>\n",
       "      <td>43019</td>\n",
       "      <td>60707-2023-36</td>\n",
       "      <td>POINT (-87.808283 41.921777)</td>\n",
       "    </tr>\n",
       "    <tr>\n",
       "      <th>11276</th>\n",
       "      <td>60827</td>\n",
       "      <td>36</td>\n",
       "      <td>09/03/2023</td>\n",
       "      <td>09/09/2023</td>\n",
       "      <td>2.0</td>\n",
       "      <td>1279.0</td>\n",
       "      <td>7.0</td>\n",
       "      <td>4475.6</td>\n",
       "      <td>NaN</td>\n",
       "      <td>813</td>\n",
       "      <td>...</td>\n",
       "      <td>2844.9</td>\n",
       "      <td>0.0</td>\n",
       "      <td>0.1</td>\n",
       "      <td>0</td>\n",
       "      <td>19</td>\n",
       "      <td>0.0</td>\n",
       "      <td>66.5</td>\n",
       "      <td>28577</td>\n",
       "      <td>60827-2023-36</td>\n",
       "      <td>POINT (-87.633087 41.650765)</td>\n",
       "    </tr>\n",
       "    <tr>\n",
       "      <th>11277</th>\n",
       "      <td>60610</td>\n",
       "      <td>36</td>\n",
       "      <td>09/03/2023</td>\n",
       "      <td>09/09/2023</td>\n",
       "      <td>23.0</td>\n",
       "      <td>11467.0</td>\n",
       "      <td>59.0</td>\n",
       "      <td>29388.2</td>\n",
       "      <td>116.0</td>\n",
       "      <td>230789</td>\n",
       "      <td>...</td>\n",
       "      <td>591478.5</td>\n",
       "      <td>0.2</td>\n",
       "      <td>0.1</td>\n",
       "      <td>0</td>\n",
       "      <td>59</td>\n",
       "      <td>0.0</td>\n",
       "      <td>151.2</td>\n",
       "      <td>39019</td>\n",
       "      <td>60610-2023-36</td>\n",
       "      <td>POINT (-87.63581 41.90455)</td>\n",
       "    </tr>\n",
       "    <tr>\n",
       "      <th>11278</th>\n",
       "      <td>60642</td>\n",
       "      <td>36</td>\n",
       "      <td>09/03/2023</td>\n",
       "      <td>09/09/2023</td>\n",
       "      <td>4.0</td>\n",
       "      <td>5689.0</td>\n",
       "      <td>20.0</td>\n",
       "      <td>28162.0</td>\n",
       "      <td>37.0</td>\n",
       "      <td>92730</td>\n",
       "      <td>...</td>\n",
       "      <td>459036.7</td>\n",
       "      <td>0.1</td>\n",
       "      <td>0.1</td>\n",
       "      <td>0</td>\n",
       "      <td>31</td>\n",
       "      <td>0.0</td>\n",
       "      <td>153.5</td>\n",
       "      <td>20201</td>\n",
       "      <td>60642-2023-36</td>\n",
       "      <td>POINT (-87.657821 41.899935)</td>\n",
       "    </tr>\n",
       "    <tr>\n",
       "      <th>11279</th>\n",
       "      <td>60614</td>\n",
       "      <td>36</td>\n",
       "      <td>09/03/2023</td>\n",
       "      <td>09/09/2023</td>\n",
       "      <td>21.0</td>\n",
       "      <td>19386.0</td>\n",
       "      <td>29.0</td>\n",
       "      <td>27186.3</td>\n",
       "      <td>111.0</td>\n",
       "      <td>403278</td>\n",
       "      <td>...</td>\n",
       "      <td>565543.8</td>\n",
       "      <td>0.2</td>\n",
       "      <td>0.1</td>\n",
       "      <td>0</td>\n",
       "      <td>121</td>\n",
       "      <td>0.0</td>\n",
       "      <td>169.7</td>\n",
       "      <td>71308</td>\n",
       "      <td>60614-2023-36</td>\n",
       "      <td>POINT (-87.652064 41.922605)</td>\n",
       "    </tr>\n",
       "  </tbody>\n",
       "</table>\n",
       "<p>11280 rows × 21 columns</p>\n",
       "</div>"
      ],
      "text/plain": [
       "      ZIP Code  Week Number  Week Start    Week End  Cases - Weekly  \\\n",
       "0        60632           36  08/30/2020  09/05/2020           117.0   \n",
       "1        60601           17  04/19/2020  04/25/2020             7.0   \n",
       "2        60632           39  09/20/2020  09/26/2020           107.0   \n",
       "3        60632           49  11/29/2020  12/05/2020           615.0   \n",
       "4        60632           50  12/06/2020  12/12/2020           581.0   \n",
       "...        ...          ...         ...         ...             ...   \n",
       "11275    60707           36  09/03/2023  09/09/2023             3.0   \n",
       "11276    60827           36  09/03/2023  09/09/2023             2.0   \n",
       "11277    60610           36  09/03/2023  09/09/2023            23.0   \n",
       "11278    60642           36  09/03/2023  09/09/2023             4.0   \n",
       "11279    60614           36  09/03/2023  09/09/2023            21.0   \n",
       "\n",
       "       Cases - Cumulative  Case Rate - Weekly  Case Rate - Cumulative  \\\n",
       "0                  4282.0               128.0                  4703.5   \n",
       "1                    45.0                48.0                   306.6   \n",
       "2                  4617.0               118.0                  5071.5   \n",
       "3                  9447.0               676.0                 10376.9   \n",
       "4                 10028.0               638.0                 11015.1   \n",
       "...                   ...                 ...                     ...   \n",
       "11275              5951.0                 7.0                 13833.4   \n",
       "11276              1279.0                 7.0                  4475.6   \n",
       "11277             11467.0                59.0                 29388.2   \n",
       "11278              5689.0                20.0                 28162.0   \n",
       "11279             19386.0                29.0                 27186.3   \n",
       "\n",
       "       Tests - Weekly  Tests - Cumulative  ...  Test Rate - Cumulative  \\\n",
       "0              1446.0               25164  ...                 27640.9   \n",
       "1                35.0                 197  ...                  1342.4   \n",
       "2              1355.0               29203  ...                 32077.5   \n",
       "3              2884.0               53923  ...                 59230.7   \n",
       "4              2848.0               56771  ...                 62359.0   \n",
       "...               ...                 ...  ...                     ...   \n",
       "11275             NaN                4414  ...                 10260.6   \n",
       "11276             NaN                 813  ...                  2844.9   \n",
       "11277           116.0              230789  ...                591478.5   \n",
       "11278            37.0               92730  ...                459036.7   \n",
       "11279           111.0              403278  ...                565543.8   \n",
       "\n",
       "       Percent Tested Positive - Weekly  Percent Tested Positive - Cumulative  \\\n",
       "0                                   0.1                                   0.2   \n",
       "1                                   0.1                                   0.1   \n",
       "2                                   0.1                                   0.2   \n",
       "3                                   0.3                                   0.2   \n",
       "4                                   0.2                                   0.2   \n",
       "...                                 ...                                   ...   \n",
       "11275                               0.0                                   0.1   \n",
       "11276                               0.0                                   0.1   \n",
       "11277                               0.2                                   0.1   \n",
       "11278                               0.1                                   0.1   \n",
       "11279                               0.2                                   0.1   \n",
       "\n",
       "       Deaths - Weekly  Deaths - Cumulative  Death Rate - Weekly  \\\n",
       "0                    1                  100                  1.1   \n",
       "1                    1                    2                  6.8   \n",
       "2                    3                  103                  3.3   \n",
       "3                    6                  135                  6.6   \n",
       "4                   10                  145                 11.0   \n",
       "...                ...                  ...                  ...   \n",
       "11275                0                   66                  0.0   \n",
       "11276                0                   19                  0.0   \n",
       "11277                0                   59                  0.0   \n",
       "11278                0                   31                  0.0   \n",
       "11279                0                  121                  0.0   \n",
       "\n",
       "       Death Rate - Cumulative  Population         Row ID  \\\n",
       "0                        109.8       91039  60632-2020-36   \n",
       "1                         13.6       14675  60601-2020-17   \n",
       "2                        113.1       91039  60632-2020-39   \n",
       "3                        148.3       91039  60632-2020-49   \n",
       "4                        159.3       91039  60632-2020-50   \n",
       "...                        ...         ...            ...   \n",
       "11275                    153.4       43019  60707-2023-36   \n",
       "11276                     66.5       28577  60827-2023-36   \n",
       "11277                    151.2       39019  60610-2023-36   \n",
       "11278                    153.5       20201  60642-2023-36   \n",
       "11279                    169.7       71308  60614-2023-36   \n",
       "\n",
       "                  ZIP Code Location  \n",
       "0      POINT (-87.711251 41.810038)  \n",
       "1      POINT (-87.622844 41.886262)  \n",
       "2      POINT (-87.711251 41.810038)  \n",
       "3      POINT (-87.711251 41.810038)  \n",
       "4      POINT (-87.711251 41.810038)  \n",
       "...                             ...  \n",
       "11275  POINT (-87.808283 41.921777)  \n",
       "11276  POINT (-87.633087 41.650765)  \n",
       "11277    POINT (-87.63581 41.90455)  \n",
       "11278  POINT (-87.657821 41.899935)  \n",
       "11279  POINT (-87.652064 41.922605)  \n",
       "\n",
       "[11280 rows x 21 columns]"
      ]
     },
     "execution_count": 2,
     "metadata": {},
     "output_type": "execute_result"
    }
   ],
   "source": [
    "data = pd.read_csv('COVID-19_Cases__Tests__and_Deaths_by_ZIP_Code.csv')\n",
    "data"
   ]
  },
  {
   "cell_type": "markdown",
   "id": "d2d00049",
   "metadata": {},
   "source": [
    "south side \\\n",
    "west side \\\n",
    "north side \\\n",
    "downtown/central \\\n",
    "southeast side \\\n",
    "southwest side (far southwest + southwest) \\\n",
    "northwest side \\\n",
    "far north side"
   ]
  },
  {
   "cell_type": "code",
   "execution_count": 3,
   "id": "7a1e0528",
   "metadata": {},
   "outputs": [],
   "source": [
    "# data cleaning\n",
    "i = data.loc[data['ZIP Code'] == 'Unknown'].index\n",
    "data = data.drop(i)\n",
    "data['ZIP Code'] = pd.to_numeric(data['ZIP Code'])\n",
    "data = data.dropna()\n",
    "\n",
    "# 60666 is the airport's ZIP Code\n",
    "j = data.loc[data['ZIP Code'] == 60666].index\n",
    "data = data.drop(j)"
   ]
  },
  {
   "cell_type": "code",
   "execution_count": 4,
   "id": "589a19d1",
   "metadata": {},
   "outputs": [],
   "source": [
    "# normalizing death rate\n",
    "data['Death Rate - Normalized'] = data['Deaths - Cumulative'] / data['Population']"
   ]
  },
  {
   "cell_type": "code",
   "execution_count": 5,
   "id": "c9294a38",
   "metadata": {},
   "outputs": [],
   "source": [
    "central_downtown = [60601,60602,60603,60604,60605,60606,60607,60611,60610,60642,60661,60654]\n",
    "far_north_side = [60626,60645,60659,60660,60646,60631,60656,60640,60625,60630]\n",
    "south_side = [60616, 60653, 60615, 60649, 60637,60827]\n",
    "southwest_side = [60609, 60621, 60636, 60632, 60629, 60638, 60652, 60620, 60655, 60643] \n",
    "southeast_side = [60619, 60617, 60628, 60633]\n",
    "north_side = [60614,60657,60613,60618,60647]\n",
    "northwest_side = [60641,60634,60707,60639,60622]\n",
    "west_side = [60608,60651,60644,60622,60612,60624,60623]\n",
    "\n",
    "\n",
    "regions = {'Central/Downtown': central_downtown, 'Far North Side': far_north_side, 'South Side': south_side, \\\n",
    "           'Southwest Side': southwest_side, 'Southeast Side': southeast_side, 'North Side': north_side, \\\n",
    "           'Northwest Side': northwest_side, 'West Side': west_side}"
   ]
  },
  {
   "cell_type": "code",
   "execution_count": 6,
   "id": "4ad231cc",
   "metadata": {},
   "outputs": [
    {
     "data": {
      "text/html": [
       "<div>\n",
       "<style scoped>\n",
       "    .dataframe tbody tr th:only-of-type {\n",
       "        vertical-align: middle;\n",
       "    }\n",
       "\n",
       "    .dataframe tbody tr th {\n",
       "        vertical-align: top;\n",
       "    }\n",
       "\n",
       "    .dataframe thead th {\n",
       "        text-align: right;\n",
       "    }\n",
       "</style>\n",
       "<table border=\"1\" class=\"dataframe\">\n",
       "  <thead>\n",
       "    <tr style=\"text-align: right;\">\n",
       "      <th></th>\n",
       "      <th>ZIP Code</th>\n",
       "      <th>Week Number</th>\n",
       "      <th>Week Start</th>\n",
       "      <th>Week End</th>\n",
       "      <th>Cases - Weekly</th>\n",
       "      <th>Cases - Cumulative</th>\n",
       "      <th>Case Rate - Weekly</th>\n",
       "      <th>Case Rate - Cumulative</th>\n",
       "      <th>Tests - Weekly</th>\n",
       "      <th>Tests - Cumulative</th>\n",
       "      <th>...</th>\n",
       "      <th>Percent Tested Positive - Cumulative</th>\n",
       "      <th>Deaths - Weekly</th>\n",
       "      <th>Deaths - Cumulative</th>\n",
       "      <th>Death Rate - Weekly</th>\n",
       "      <th>Death Rate - Cumulative</th>\n",
       "      <th>Population</th>\n",
       "      <th>Row ID</th>\n",
       "      <th>ZIP Code Location</th>\n",
       "      <th>Death Rate - Normalized</th>\n",
       "      <th>Chicago Region</th>\n",
       "    </tr>\n",
       "  </thead>\n",
       "  <tbody>\n",
       "    <tr>\n",
       "      <th>0</th>\n",
       "      <td>60632</td>\n",
       "      <td>36</td>\n",
       "      <td>08/30/2020</td>\n",
       "      <td>09/05/2020</td>\n",
       "      <td>117.0</td>\n",
       "      <td>4282.0</td>\n",
       "      <td>128.0</td>\n",
       "      <td>4703.5</td>\n",
       "      <td>1446.0</td>\n",
       "      <td>25164</td>\n",
       "      <td>...</td>\n",
       "      <td>0.2</td>\n",
       "      <td>1</td>\n",
       "      <td>100</td>\n",
       "      <td>1.1</td>\n",
       "      <td>109.8</td>\n",
       "      <td>91039</td>\n",
       "      <td>60632-2020-36</td>\n",
       "      <td>POINT (-87.711251 41.810038)</td>\n",
       "      <td>0.001098</td>\n",
       "      <td>Southwest Side</td>\n",
       "    </tr>\n",
       "    <tr>\n",
       "      <th>1</th>\n",
       "      <td>60601</td>\n",
       "      <td>17</td>\n",
       "      <td>04/19/2020</td>\n",
       "      <td>04/25/2020</td>\n",
       "      <td>7.0</td>\n",
       "      <td>45.0</td>\n",
       "      <td>48.0</td>\n",
       "      <td>306.6</td>\n",
       "      <td>35.0</td>\n",
       "      <td>197</td>\n",
       "      <td>...</td>\n",
       "      <td>0.1</td>\n",
       "      <td>1</td>\n",
       "      <td>2</td>\n",
       "      <td>6.8</td>\n",
       "      <td>13.6</td>\n",
       "      <td>14675</td>\n",
       "      <td>60601-2020-17</td>\n",
       "      <td>POINT (-87.622844 41.886262)</td>\n",
       "      <td>0.000136</td>\n",
       "      <td>Central/Downtown</td>\n",
       "    </tr>\n",
       "    <tr>\n",
       "      <th>2</th>\n",
       "      <td>60632</td>\n",
       "      <td>39</td>\n",
       "      <td>09/20/2020</td>\n",
       "      <td>09/26/2020</td>\n",
       "      <td>107.0</td>\n",
       "      <td>4617.0</td>\n",
       "      <td>118.0</td>\n",
       "      <td>5071.5</td>\n",
       "      <td>1355.0</td>\n",
       "      <td>29203</td>\n",
       "      <td>...</td>\n",
       "      <td>0.2</td>\n",
       "      <td>3</td>\n",
       "      <td>103</td>\n",
       "      <td>3.3</td>\n",
       "      <td>113.1</td>\n",
       "      <td>91039</td>\n",
       "      <td>60632-2020-39</td>\n",
       "      <td>POINT (-87.711251 41.810038)</td>\n",
       "      <td>0.001131</td>\n",
       "      <td>Southwest Side</td>\n",
       "    </tr>\n",
       "    <tr>\n",
       "      <th>3</th>\n",
       "      <td>60632</td>\n",
       "      <td>49</td>\n",
       "      <td>11/29/2020</td>\n",
       "      <td>12/05/2020</td>\n",
       "      <td>615.0</td>\n",
       "      <td>9447.0</td>\n",
       "      <td>676.0</td>\n",
       "      <td>10376.9</td>\n",
       "      <td>2884.0</td>\n",
       "      <td>53923</td>\n",
       "      <td>...</td>\n",
       "      <td>0.2</td>\n",
       "      <td>6</td>\n",
       "      <td>135</td>\n",
       "      <td>6.6</td>\n",
       "      <td>148.3</td>\n",
       "      <td>91039</td>\n",
       "      <td>60632-2020-49</td>\n",
       "      <td>POINT (-87.711251 41.810038)</td>\n",
       "      <td>0.001483</td>\n",
       "      <td>Southwest Side</td>\n",
       "    </tr>\n",
       "    <tr>\n",
       "      <th>4</th>\n",
       "      <td>60632</td>\n",
       "      <td>50</td>\n",
       "      <td>12/06/2020</td>\n",
       "      <td>12/12/2020</td>\n",
       "      <td>581.0</td>\n",
       "      <td>10028.0</td>\n",
       "      <td>638.0</td>\n",
       "      <td>11015.1</td>\n",
       "      <td>2848.0</td>\n",
       "      <td>56771</td>\n",
       "      <td>...</td>\n",
       "      <td>0.2</td>\n",
       "      <td>10</td>\n",
       "      <td>145</td>\n",
       "      <td>11.0</td>\n",
       "      <td>159.3</td>\n",
       "      <td>91039</td>\n",
       "      <td>60632-2020-50</td>\n",
       "      <td>POINT (-87.711251 41.810038)</td>\n",
       "      <td>0.001593</td>\n",
       "      <td>Southwest Side</td>\n",
       "    </tr>\n",
       "  </tbody>\n",
       "</table>\n",
       "<p>5 rows × 23 columns</p>\n",
       "</div>"
      ],
      "text/plain": [
       "   ZIP Code  Week Number  Week Start    Week End  Cases - Weekly  \\\n",
       "0     60632           36  08/30/2020  09/05/2020           117.0   \n",
       "1     60601           17  04/19/2020  04/25/2020             7.0   \n",
       "2     60632           39  09/20/2020  09/26/2020           107.0   \n",
       "3     60632           49  11/29/2020  12/05/2020           615.0   \n",
       "4     60632           50  12/06/2020  12/12/2020           581.0   \n",
       "\n",
       "   Cases - Cumulative  Case Rate - Weekly  Case Rate - Cumulative  \\\n",
       "0              4282.0               128.0                  4703.5   \n",
       "1                45.0                48.0                   306.6   \n",
       "2              4617.0               118.0                  5071.5   \n",
       "3              9447.0               676.0                 10376.9   \n",
       "4             10028.0               638.0                 11015.1   \n",
       "\n",
       "   Tests - Weekly  Tests - Cumulative  ...  \\\n",
       "0          1446.0               25164  ...   \n",
       "1            35.0                 197  ...   \n",
       "2          1355.0               29203  ...   \n",
       "3          2884.0               53923  ...   \n",
       "4          2848.0               56771  ...   \n",
       "\n",
       "   Percent Tested Positive - Cumulative  Deaths - Weekly  Deaths - Cumulative  \\\n",
       "0                                   0.2                1                  100   \n",
       "1                                   0.1                1                    2   \n",
       "2                                   0.2                3                  103   \n",
       "3                                   0.2                6                  135   \n",
       "4                                   0.2               10                  145   \n",
       "\n",
       "   Death Rate - Weekly  Death Rate - Cumulative  Population         Row ID  \\\n",
       "0                  1.1                    109.8       91039  60632-2020-36   \n",
       "1                  6.8                     13.6       14675  60601-2020-17   \n",
       "2                  3.3                    113.1       91039  60632-2020-39   \n",
       "3                  6.6                    148.3       91039  60632-2020-49   \n",
       "4                 11.0                    159.3       91039  60632-2020-50   \n",
       "\n",
       "              ZIP Code Location  Death Rate - Normalized    Chicago Region  \n",
       "0  POINT (-87.711251 41.810038)                 0.001098    Southwest Side  \n",
       "1  POINT (-87.622844 41.886262)                 0.000136  Central/Downtown  \n",
       "2  POINT (-87.711251 41.810038)                 0.001131    Southwest Side  \n",
       "3  POINT (-87.711251 41.810038)                 0.001483    Southwest Side  \n",
       "4  POINT (-87.711251 41.810038)                 0.001593    Southwest Side  \n",
       "\n",
       "[5 rows x 23 columns]"
      ]
     },
     "execution_count": 6,
     "metadata": {},
     "output_type": "execute_result"
    }
   ],
   "source": [
    "data['Chicago Region'] = data['ZIP Code'].apply(lambda x: 'Central/Downtown' if x in central_downtown else \\\n",
    "                                               'Far North Side' if x in far_north_side else \\\n",
    "                                               'South Side' if x in south_side else \\\n",
    "                                               'Southwest Side' if x in southwest_side else \\\n",
    "                                               'Southeast Side' if x in southeast_side else \\\n",
    "                                               'North Side' if x in north_side else \\\n",
    "                                               'Northwest Side' if x in northwest_side else \\\n",
    "                                               'West Side' if x in west_side else x)\n",
    "\n",
    "data.head()"
   ]
  },
  {
   "cell_type": "code",
   "execution_count": 7,
   "id": "5d0dcc85",
   "metadata": {},
   "outputs": [
    {
     "data": {
      "image/png": "[encoded data removed]",
      "text/plain": [
       "<Figure size 2000x600 with 1 Axes>"
      ]
     },
     "metadata": {},
     "output_type": "display_data"
    },
    {
     "data": {
      "image/png": "[encoded data removed]",
      "text/plain": [
       "<Figure size 2000x600 with 1 Axes>"
      ]
     },
     "metadata": {},
     "output_type": "display_data"
    }
   ],
   "source": [
    "# more data cleaning here for the week start and week end column\n",
    "data['Week Start'] = pd.to_datetime(data['Week Start'])\n",
    "data['Week End'] = pd.to_datetime(data['Week End'])\n",
    "\n",
    "# extracting the year from the week start\n",
    "data['Year'] = data['Week Start'].dt.year\n",
    "\n",
    "# creating the plot for the death normalized by Chicago region\n",
    "plt.figure(figsize = (20, 6))\n",
    "sns.barplot(data = data, x = 'Chicago Region', y = 'Death Rate - Normalized')\n",
    "plt.title('Death Rate by Chicago Region')\n",
    "plt.show()\n",
    "\n",
    "# creating the plot for the weekly death rate in certain Chicago regions by year\n",
    "plt.figure(figsize = (20, 6))\n",
    "sns.barplot(data = data, x = 'Chicago Region', y = 'Deaths - Weekly', hue = 'Year')\n",
    "plt.title('Weekly Death Rate in Certain Chicago Regions by Year')\n",
    "plt.show()"
   ]
  },
  {
   "cell_type": "code",
   "execution_count": 8,
   "id": "f0cc1586",
   "metadata": {},
   "outputs": [
    {
     "name": "stdout",
     "output_type": "stream",
     "text": [
      "Total Central/Downtown : 36959910\n",
      "Total Far North Side : 88009434\n",
      "Total South Side : 41766262\n",
      "Total Southwest Side : 107008450\n",
      "Total Southeast Side : 41524240\n",
      "Total North Side : 69821499\n",
      "Total Northwest Side : 54914181\n",
      "Total West Side : 74384441\n",
      "{'Central/Downtown': 36959910, 'Far North Side': 88009434, 'South Side': 41766262, 'Southwest Side': 107008450, 'Southeast Side': 41524240, 'North Side': 69821499, 'Northwest Side': 54914181, 'West Side': 74384441}\n",
      "[36959910, 88009434, 41766262, 107008450, 41524240, 69821499, 54914181, 74384441]\n"
     ]
    }
   ],
   "source": [
    "# storing the total populations of certain chicago regions\n",
    "\n",
    "total_population = {}\n",
    "total1 = []\n",
    "keys = []\n",
    "\n",
    "# this will extract the population by ZIP Code of the regions and sum up the population for the Chicago region\n",
    "for key in regions:\n",
    "    filtered_data = data[data['ZIP Code'].isin(regions[key])]\n",
    "    agg = filtered_data.groupby('ZIP Code')['Population'].sum().reset_index()\n",
    "    total = agg['Population'].sum()\n",
    "    total_population[key] = total\n",
    "    total1.append(total)\n",
    "    keys.append(key)\n",
    "    print('Total', key, ':', total)\n",
    "\n",
    "print(total_population)\n",
    "print(total1)\n"
   ]
  },
  {
   "cell_type": "code",
   "execution_count": 9,
   "id": "cb724a73",
   "metadata": {},
   "outputs": [
    {
     "data": {
      "text/html": [
       "<div>\n",
       "<style scoped>\n",
       "    .dataframe tbody tr th:only-of-type {\n",
       "        vertical-align: middle;\n",
       "    }\n",
       "\n",
       "    .dataframe tbody tr th {\n",
       "        vertical-align: top;\n",
       "    }\n",
       "\n",
       "    .dataframe thead th {\n",
       "        text-align: right;\n",
       "    }\n",
       "</style>\n",
       "<table border=\"1\" class=\"dataframe\">\n",
       "  <thead>\n",
       "    <tr style=\"text-align: right;\">\n",
       "      <th></th>\n",
       "      <th>Chicago Region</th>\n",
       "      <th>Total Population</th>\n",
       "    </tr>\n",
       "  </thead>\n",
       "  <tbody>\n",
       "    <tr>\n",
       "      <th>0</th>\n",
       "      <td>Central/Downtown</td>\n",
       "      <td>36959910</td>\n",
       "    </tr>\n",
       "    <tr>\n",
       "      <th>1</th>\n",
       "      <td>Far North Side</td>\n",
       "      <td>88009434</td>\n",
       "    </tr>\n",
       "    <tr>\n",
       "      <th>2</th>\n",
       "      <td>South Side</td>\n",
       "      <td>41766262</td>\n",
       "    </tr>\n",
       "    <tr>\n",
       "      <th>3</th>\n",
       "      <td>Southwest Side</td>\n",
       "      <td>107008450</td>\n",
       "    </tr>\n",
       "    <tr>\n",
       "      <th>4</th>\n",
       "      <td>Southeast Side</td>\n",
       "      <td>41524240</td>\n",
       "    </tr>\n",
       "    <tr>\n",
       "      <th>5</th>\n",
       "      <td>North Side</td>\n",
       "      <td>69821499</td>\n",
       "    </tr>\n",
       "    <tr>\n",
       "      <th>6</th>\n",
       "      <td>Northwest Side</td>\n",
       "      <td>54914181</td>\n",
       "    </tr>\n",
       "    <tr>\n",
       "      <th>7</th>\n",
       "      <td>West Side</td>\n",
       "      <td>74384441</td>\n",
       "    </tr>\n",
       "  </tbody>\n",
       "</table>\n",
       "</div>"
      ],
      "text/plain": [
       "     Chicago Region Total Population\n",
       "0  Central/Downtown         36959910\n",
       "1    Far North Side         88009434\n",
       "2        South Side         41766262\n",
       "3    Southwest Side        107008450\n",
       "4    Southeast Side         41524240\n",
       "5        North Side         69821499\n",
       "6    Northwest Side         54914181\n",
       "7         West Side         74384441"
      ]
     },
     "execution_count": 9,
     "metadata": {},
     "output_type": "execute_result"
    }
   ],
   "source": [
    "# created a separate dataframe for just the total population data using the dictionary created from the for loop\n",
    "\n",
    "list_of_lists = [keys, total1]\n",
    "\n",
    "total_data = pd.DataFrame(list_of_lists).transpose()\n",
    "total_data.columns = ['Chicago Region', 'Total Population']\n",
    "total_data"
   ]
  },
  {
   "cell_type": "code",
   "execution_count": 10,
   "id": "a1a7b301",
   "metadata": {},
   "outputs": [
    {
     "data": {
      "text/plain": [
       "Text(0.5, 1.0, 'Total Population of Chicago Regions')"
      ]
     },
     "execution_count": 10,
     "metadata": {},
     "output_type": "execute_result"
    },
    {
     "data": {
      "image/png": "[encoded data removed]",
      "text/plain": [
       "<Figure size 2000x600 with 1 Axes>"
      ]
     },
     "metadata": {},
     "output_type": "display_data"
    }
   ],
   "source": [
    "# creating a barplot of the total population of Chicago Regions\n",
    "\n",
    "plt.figure(figsize = (20, 6))\n",
    "sns.barplot(data = total_data, x = 'Chicago Region', y = 'Total Population')\n",
    "plt.title('Total Population of Chicago Regions')"
   ]
  },
  {
   "cell_type": "code",
   "execution_count": 11,
   "id": "38d9fcc8",
   "metadata": {},
   "outputs": [
    {
     "data": {
      "text/html": [
       "<div>\n",
       "<style scoped>\n",
       "    .dataframe tbody tr th:only-of-type {\n",
       "        vertical-align: middle;\n",
       "    }\n",
       "\n",
       "    .dataframe tbody tr th {\n",
       "        vertical-align: top;\n",
       "    }\n",
       "\n",
       "    .dataframe thead th {\n",
       "        text-align: right;\n",
       "    }\n",
       "</style>\n",
       "<table border=\"1\" class=\"dataframe\">\n",
       "  <thead>\n",
       "    <tr style=\"text-align: right;\">\n",
       "      <th></th>\n",
       "      <th>ZIP Code</th>\n",
       "      <th>Week Number</th>\n",
       "      <th>Week Start</th>\n",
       "      <th>Week End</th>\n",
       "      <th>Cases - Weekly</th>\n",
       "      <th>Cases - Cumulative</th>\n",
       "      <th>Case Rate - Weekly</th>\n",
       "      <th>Case Rate - Cumulative</th>\n",
       "      <th>Tests - Weekly</th>\n",
       "      <th>Tests - Cumulative</th>\n",
       "      <th>...</th>\n",
       "      <th>Deaths - Cumulative</th>\n",
       "      <th>Death Rate - Weekly</th>\n",
       "      <th>Death Rate - Cumulative</th>\n",
       "      <th>Population</th>\n",
       "      <th>Row ID</th>\n",
       "      <th>ZIP Code Location</th>\n",
       "      <th>Death Rate - Normalized</th>\n",
       "      <th>Chicago Region</th>\n",
       "      <th>Year</th>\n",
       "      <th>Total Population</th>\n",
       "    </tr>\n",
       "  </thead>\n",
       "  <tbody>\n",
       "    <tr>\n",
       "      <th>0</th>\n",
       "      <td>60632</td>\n",
       "      <td>36</td>\n",
       "      <td>2020-08-30</td>\n",
       "      <td>2020-09-05</td>\n",
       "      <td>117.0</td>\n",
       "      <td>4282.0</td>\n",
       "      <td>128.0</td>\n",
       "      <td>4703.5</td>\n",
       "      <td>1446.0</td>\n",
       "      <td>25164</td>\n",
       "      <td>...</td>\n",
       "      <td>100</td>\n",
       "      <td>1.1</td>\n",
       "      <td>109.8</td>\n",
       "      <td>91039</td>\n",
       "      <td>60632-2020-36</td>\n",
       "      <td>POINT (-87.711251 41.810038)</td>\n",
       "      <td>0.001098</td>\n",
       "      <td>Southwest Side</td>\n",
       "      <td>2020</td>\n",
       "      <td>107008450</td>\n",
       "    </tr>\n",
       "    <tr>\n",
       "      <th>1</th>\n",
       "      <td>60632</td>\n",
       "      <td>39</td>\n",
       "      <td>2020-09-20</td>\n",
       "      <td>2020-09-26</td>\n",
       "      <td>107.0</td>\n",
       "      <td>4617.0</td>\n",
       "      <td>118.0</td>\n",
       "      <td>5071.5</td>\n",
       "      <td>1355.0</td>\n",
       "      <td>29203</td>\n",
       "      <td>...</td>\n",
       "      <td>103</td>\n",
       "      <td>3.3</td>\n",
       "      <td>113.1</td>\n",
       "      <td>91039</td>\n",
       "      <td>60632-2020-39</td>\n",
       "      <td>POINT (-87.711251 41.810038)</td>\n",
       "      <td>0.001131</td>\n",
       "      <td>Southwest Side</td>\n",
       "      <td>2020</td>\n",
       "      <td>107008450</td>\n",
       "    </tr>\n",
       "    <tr>\n",
       "      <th>2</th>\n",
       "      <td>60632</td>\n",
       "      <td>49</td>\n",
       "      <td>2020-11-29</td>\n",
       "      <td>2020-12-05</td>\n",
       "      <td>615.0</td>\n",
       "      <td>9447.0</td>\n",
       "      <td>676.0</td>\n",
       "      <td>10376.9</td>\n",
       "      <td>2884.0</td>\n",
       "      <td>53923</td>\n",
       "      <td>...</td>\n",
       "      <td>135</td>\n",
       "      <td>6.6</td>\n",
       "      <td>148.3</td>\n",
       "      <td>91039</td>\n",
       "      <td>60632-2020-49</td>\n",
       "      <td>POINT (-87.711251 41.810038)</td>\n",
       "      <td>0.001483</td>\n",
       "      <td>Southwest Side</td>\n",
       "      <td>2020</td>\n",
       "      <td>107008450</td>\n",
       "    </tr>\n",
       "    <tr>\n",
       "      <th>3</th>\n",
       "      <td>60632</td>\n",
       "      <td>50</td>\n",
       "      <td>2020-12-06</td>\n",
       "      <td>2020-12-12</td>\n",
       "      <td>581.0</td>\n",
       "      <td>10028.0</td>\n",
       "      <td>638.0</td>\n",
       "      <td>11015.1</td>\n",
       "      <td>2848.0</td>\n",
       "      <td>56771</td>\n",
       "      <td>...</td>\n",
       "      <td>145</td>\n",
       "      <td>11.0</td>\n",
       "      <td>159.3</td>\n",
       "      <td>91039</td>\n",
       "      <td>60632-2020-50</td>\n",
       "      <td>POINT (-87.711251 41.810038)</td>\n",
       "      <td>0.001593</td>\n",
       "      <td>Southwest Side</td>\n",
       "      <td>2020</td>\n",
       "      <td>107008450</td>\n",
       "    </tr>\n",
       "    <tr>\n",
       "      <th>4</th>\n",
       "      <td>60632</td>\n",
       "      <td>51</td>\n",
       "      <td>2020-12-13</td>\n",
       "      <td>2020-12-19</td>\n",
       "      <td>383.0</td>\n",
       "      <td>10411.0</td>\n",
       "      <td>421.0</td>\n",
       "      <td>11435.8</td>\n",
       "      <td>2359.0</td>\n",
       "      <td>59130</td>\n",
       "      <td>...</td>\n",
       "      <td>155</td>\n",
       "      <td>11.0</td>\n",
       "      <td>170.3</td>\n",
       "      <td>91039</td>\n",
       "      <td>60632-2020-51</td>\n",
       "      <td>POINT (-87.711251 41.810038)</td>\n",
       "      <td>0.001703</td>\n",
       "      <td>Southwest Side</td>\n",
       "      <td>2020</td>\n",
       "      <td>107008450</td>\n",
       "    </tr>\n",
       "  </tbody>\n",
       "</table>\n",
       "<p>5 rows × 25 columns</p>\n",
       "</div>"
      ],
      "text/plain": [
       "   ZIP Code  Week Number Week Start   Week End  Cases - Weekly  \\\n",
       "0     60632           36 2020-08-30 2020-09-05           117.0   \n",
       "1     60632           39 2020-09-20 2020-09-26           107.0   \n",
       "2     60632           49 2020-11-29 2020-12-05           615.0   \n",
       "3     60632           50 2020-12-06 2020-12-12           581.0   \n",
       "4     60632           51 2020-12-13 2020-12-19           383.0   \n",
       "\n",
       "   Cases - Cumulative  Case Rate - Weekly  Case Rate - Cumulative  \\\n",
       "0              4282.0               128.0                  4703.5   \n",
       "1              4617.0               118.0                  5071.5   \n",
       "2              9447.0               676.0                 10376.9   \n",
       "3             10028.0               638.0                 11015.1   \n",
       "4             10411.0               421.0                 11435.8   \n",
       "\n",
       "   Tests - Weekly  Tests - Cumulative  ...  Deaths - Cumulative  \\\n",
       "0          1446.0               25164  ...                  100   \n",
       "1          1355.0               29203  ...                  103   \n",
       "2          2884.0               53923  ...                  135   \n",
       "3          2848.0               56771  ...                  145   \n",
       "4          2359.0               59130  ...                  155   \n",
       "\n",
       "   Death Rate - Weekly  Death Rate - Cumulative  Population         Row ID  \\\n",
       "0                  1.1                    109.8       91039  60632-2020-36   \n",
       "1                  3.3                    113.1       91039  60632-2020-39   \n",
       "2                  6.6                    148.3       91039  60632-2020-49   \n",
       "3                 11.0                    159.3       91039  60632-2020-50   \n",
       "4                 11.0                    170.3       91039  60632-2020-51   \n",
       "\n",
       "              ZIP Code Location  Death Rate - Normalized  Chicago Region  \\\n",
       "0  POINT (-87.711251 41.810038)                 0.001098  Southwest Side   \n",
       "1  POINT (-87.711251 41.810038)                 0.001131  Southwest Side   \n",
       "2  POINT (-87.711251 41.810038)                 0.001483  Southwest Side   \n",
       "3  POINT (-87.711251 41.810038)                 0.001593  Southwest Side   \n",
       "4  POINT (-87.711251 41.810038)                 0.001703  Southwest Side   \n",
       "\n",
       "   Year Total Population  \n",
       "0  2020        107008450  \n",
       "1  2020        107008450  \n",
       "2  2020        107008450  \n",
       "3  2020        107008450  \n",
       "4  2020        107008450  \n",
       "\n",
       "[5 rows x 25 columns]"
      ]
     },
     "execution_count": 11,
     "metadata": {},
     "output_type": "execute_result"
    }
   ],
   "source": [
    "# merged the total population values into the dataframe - this was actually not necessary \n",
    "\n",
    "merged_df = pd.merge(data, total_data, on = 'Chicago Region')\n",
    "merged_df.head()"
   ]
  },
  {
   "cell_type": "code",
   "execution_count": 12,
   "id": "2227b5d5",
   "metadata": {},
   "outputs": [
    {
     "data": {
      "text/html": [
       "<div>\n",
       "<style scoped>\n",
       "    .dataframe tbody tr th:only-of-type {\n",
       "        vertical-align: middle;\n",
       "    }\n",
       "\n",
       "    .dataframe tbody tr th {\n",
       "        vertical-align: top;\n",
       "    }\n",
       "\n",
       "    .dataframe thead th {\n",
       "        text-align: right;\n",
       "    }\n",
       "</style>\n",
       "<table border=\"1\" class=\"dataframe\">\n",
       "  <thead>\n",
       "    <tr style=\"text-align: right;\">\n",
       "      <th></th>\n",
       "      <th>ZIP Code</th>\n",
       "      <th>Week Number</th>\n",
       "      <th>Week Start</th>\n",
       "      <th>Week End</th>\n",
       "      <th>Cases - Weekly</th>\n",
       "      <th>Cases - Cumulative</th>\n",
       "      <th>Case Rate - Weekly</th>\n",
       "      <th>Case Rate - Cumulative</th>\n",
       "      <th>Tests - Weekly</th>\n",
       "      <th>Tests - Cumulative</th>\n",
       "      <th>...</th>\n",
       "      <th>Test Rate - Cumulative</th>\n",
       "      <th>Percent Tested Positive - Weekly</th>\n",
       "      <th>Percent Tested Positive - Cumulative</th>\n",
       "      <th>Deaths - Weekly</th>\n",
       "      <th>Deaths - Cumulative</th>\n",
       "      <th>Death Rate - Weekly</th>\n",
       "      <th>Death Rate - Cumulative</th>\n",
       "      <th>Population</th>\n",
       "      <th>Row ID</th>\n",
       "      <th>ZIP Code Location</th>\n",
       "    </tr>\n",
       "  </thead>\n",
       "  <tbody>\n",
       "    <tr>\n",
       "      <th>0</th>\n",
       "      <td>60632</td>\n",
       "      <td>36</td>\n",
       "      <td>08/30/2020</td>\n",
       "      <td>09/05/2020</td>\n",
       "      <td>117.0</td>\n",
       "      <td>4282.0</td>\n",
       "      <td>128.0</td>\n",
       "      <td>4703.5</td>\n",
       "      <td>1446.0</td>\n",
       "      <td>25164</td>\n",
       "      <td>...</td>\n",
       "      <td>27640.9</td>\n",
       "      <td>0.1</td>\n",
       "      <td>0.2</td>\n",
       "      <td>1</td>\n",
       "      <td>100</td>\n",
       "      <td>1.1</td>\n",
       "      <td>109.8</td>\n",
       "      <td>91039</td>\n",
       "      <td>60632-2020-36</td>\n",
       "      <td>POINT (-87.711251 41.810038)</td>\n",
       "    </tr>\n",
       "    <tr>\n",
       "      <th>1</th>\n",
       "      <td>60601</td>\n",
       "      <td>17</td>\n",
       "      <td>04/19/2020</td>\n",
       "      <td>04/25/2020</td>\n",
       "      <td>7.0</td>\n",
       "      <td>45.0</td>\n",
       "      <td>48.0</td>\n",
       "      <td>306.6</td>\n",
       "      <td>35.0</td>\n",
       "      <td>197</td>\n",
       "      <td>...</td>\n",
       "      <td>1342.4</td>\n",
       "      <td>0.1</td>\n",
       "      <td>0.1</td>\n",
       "      <td>1</td>\n",
       "      <td>2</td>\n",
       "      <td>6.8</td>\n",
       "      <td>13.6</td>\n",
       "      <td>14675</td>\n",
       "      <td>60601-2020-17</td>\n",
       "      <td>POINT (-87.622844 41.886262)</td>\n",
       "    </tr>\n",
       "    <tr>\n",
       "      <th>2</th>\n",
       "      <td>60632</td>\n",
       "      <td>39</td>\n",
       "      <td>09/20/2020</td>\n",
       "      <td>09/26/2020</td>\n",
       "      <td>107.0</td>\n",
       "      <td>4617.0</td>\n",
       "      <td>118.0</td>\n",
       "      <td>5071.5</td>\n",
       "      <td>1355.0</td>\n",
       "      <td>29203</td>\n",
       "      <td>...</td>\n",
       "      <td>32077.5</td>\n",
       "      <td>0.1</td>\n",
       "      <td>0.2</td>\n",
       "      <td>3</td>\n",
       "      <td>103</td>\n",
       "      <td>3.3</td>\n",
       "      <td>113.1</td>\n",
       "      <td>91039</td>\n",
       "      <td>60632-2020-39</td>\n",
       "      <td>POINT (-87.711251 41.810038)</td>\n",
       "    </tr>\n",
       "    <tr>\n",
       "      <th>3</th>\n",
       "      <td>60632</td>\n",
       "      <td>49</td>\n",
       "      <td>11/29/2020</td>\n",
       "      <td>12/05/2020</td>\n",
       "      <td>615.0</td>\n",
       "      <td>9447.0</td>\n",
       "      <td>676.0</td>\n",
       "      <td>10376.9</td>\n",
       "      <td>2884.0</td>\n",
       "      <td>53923</td>\n",
       "      <td>...</td>\n",
       "      <td>59230.7</td>\n",
       "      <td>0.3</td>\n",
       "      <td>0.2</td>\n",
       "      <td>6</td>\n",
       "      <td>135</td>\n",
       "      <td>6.6</td>\n",
       "      <td>148.3</td>\n",
       "      <td>91039</td>\n",
       "      <td>60632-2020-49</td>\n",
       "      <td>POINT (-87.711251 41.810038)</td>\n",
       "    </tr>\n",
       "    <tr>\n",
       "      <th>4</th>\n",
       "      <td>60632</td>\n",
       "      <td>50</td>\n",
       "      <td>12/06/2020</td>\n",
       "      <td>12/12/2020</td>\n",
       "      <td>581.0</td>\n",
       "      <td>10028.0</td>\n",
       "      <td>638.0</td>\n",
       "      <td>11015.1</td>\n",
       "      <td>2848.0</td>\n",
       "      <td>56771</td>\n",
       "      <td>...</td>\n",
       "      <td>62359.0</td>\n",
       "      <td>0.2</td>\n",
       "      <td>0.2</td>\n",
       "      <td>10</td>\n",
       "      <td>145</td>\n",
       "      <td>11.0</td>\n",
       "      <td>159.3</td>\n",
       "      <td>91039</td>\n",
       "      <td>60632-2020-50</td>\n",
       "      <td>POINT (-87.711251 41.810038)</td>\n",
       "    </tr>\n",
       "  </tbody>\n",
       "</table>\n",
       "<p>5 rows × 21 columns</p>\n",
       "</div>"
      ],
      "text/plain": [
       "  ZIP Code  Week Number  Week Start    Week End  Cases - Weekly  \\\n",
       "0    60632           36  08/30/2020  09/05/2020           117.0   \n",
       "1    60601           17  04/19/2020  04/25/2020             7.0   \n",
       "2    60632           39  09/20/2020  09/26/2020           107.0   \n",
       "3    60632           49  11/29/2020  12/05/2020           615.0   \n",
       "4    60632           50  12/06/2020  12/12/2020           581.0   \n",
       "\n",
       "   Cases - Cumulative  Case Rate - Weekly  Case Rate - Cumulative  \\\n",
       "0              4282.0               128.0                  4703.5   \n",
       "1                45.0                48.0                   306.6   \n",
       "2              4617.0               118.0                  5071.5   \n",
       "3              9447.0               676.0                 10376.9   \n",
       "4             10028.0               638.0                 11015.1   \n",
       "\n",
       "   Tests - Weekly  Tests - Cumulative  ...  Test Rate - Cumulative  \\\n",
       "0          1446.0               25164  ...                 27640.9   \n",
       "1            35.0                 197  ...                  1342.4   \n",
       "2          1355.0               29203  ...                 32077.5   \n",
       "3          2884.0               53923  ...                 59230.7   \n",
       "4          2848.0               56771  ...                 62359.0   \n",
       "\n",
       "   Percent Tested Positive - Weekly  Percent Tested Positive - Cumulative  \\\n",
       "0                               0.1                                   0.2   \n",
       "1                               0.1                                   0.1   \n",
       "2                               0.1                                   0.2   \n",
       "3                               0.3                                   0.2   \n",
       "4                               0.2                                   0.2   \n",
       "\n",
       "   Deaths - Weekly  Deaths - Cumulative  Death Rate - Weekly  \\\n",
       "0                1                  100                  1.1   \n",
       "1                1                    2                  6.8   \n",
       "2                3                  103                  3.3   \n",
       "3                6                  135                  6.6   \n",
       "4               10                  145                 11.0   \n",
       "\n",
       "   Death Rate - Cumulative  Population         Row ID  \\\n",
       "0                    109.8       91039  60632-2020-36   \n",
       "1                     13.6       14675  60601-2020-17   \n",
       "2                    113.1       91039  60632-2020-39   \n",
       "3                    148.3       91039  60632-2020-49   \n",
       "4                    159.3       91039  60632-2020-50   \n",
       "\n",
       "              ZIP Code Location  \n",
       "0  POINT (-87.711251 41.810038)  \n",
       "1  POINT (-87.622844 41.886262)  \n",
       "2  POINT (-87.711251 41.810038)  \n",
       "3  POINT (-87.711251 41.810038)  \n",
       "4  POINT (-87.711251 41.810038)  \n",
       "\n",
       "[5 rows x 21 columns]"
      ]
     },
     "execution_count": 12,
     "metadata": {},
     "output_type": "execute_result"
    }
   ],
   "source": [
    "# the rest is not part of the presentation, and was just used for the data cleaning part about the variables used\n",
    "\n",
    "data1 = pd.read_csv('COVID-19_Cases__Tests__and_Deaths_by_ZIP_Code.csv')\n",
    "data1.head()"
   ]
  },
  {
   "cell_type": "markdown",
   "id": "0e98a4de",
   "metadata": {},
   "source": [
    "# 1) Categorical"
   ]
  },
  {
   "cell_type": "markdown",
   "id": "62b07990",
   "metadata": {},
   "source": [
    "## a) ZIP Code"
   ]
  },
  {
   "cell_type": "code",
   "execution_count": 13,
   "id": "3c7fb6f1",
   "metadata": {},
   "outputs": [
    {
     "data": {
      "text/plain": [
       "60632    188\n",
       "60601    188\n",
       "60613    188\n",
       "60611    188\n",
       "60602    188\n",
       "Name: ZIP Code, dtype: int64"
      ]
     },
     "execution_count": 13,
     "metadata": {},
     "output_type": "execute_result"
    }
   ],
   "source": [
    "# to show the top 5 most common ZIP code appearances\n",
    "data1['ZIP Code'].value_counts().sort_values(ascending = False)[0:5]"
   ]
  },
  {
   "cell_type": "code",
   "execution_count": 14,
   "id": "205104b2",
   "metadata": {},
   "outputs": [
    {
     "data": {
      "text/plain": [
       "60"
      ]
     },
     "execution_count": 14,
     "metadata": {},
     "output_type": "execute_result"
    }
   ],
   "source": [
    "# number of unique ZIP codes\n",
    "data1['ZIP Code'].nunique()"
   ]
  },
  {
   "cell_type": "code",
   "execution_count": 15,
   "id": "f536994f",
   "metadata": {},
   "outputs": [
    {
     "data": {
      "text/plain": [
       "0"
      ]
     },
     "execution_count": 15,
     "metadata": {},
     "output_type": "execute_result"
    }
   ],
   "source": [
    "# number of missing values\n",
    "data1['ZIP Code'].isnull().sum()"
   ]
  },
  {
   "cell_type": "markdown",
   "id": "87b29292",
   "metadata": {},
   "source": [
    "## b) Week Start"
   ]
  },
  {
   "cell_type": "code",
   "execution_count": 16,
   "id": "de92ad38",
   "metadata": {},
   "outputs": [
    {
     "data": {
      "text/plain": [
       "08/30/2020    60\n",
       "03/21/2021    60\n",
       "05/23/2021    60\n",
       "09/20/2020    60\n",
       "11/29/2020    60\n",
       "Name: Week Start, dtype: int64"
      ]
     },
     "execution_count": 16,
     "metadata": {},
     "output_type": "execute_result"
    }
   ],
   "source": [
    "# top 5 most common week start\n",
    "data1['Week Start'].value_counts().sort_values(ascending = False)[0:5]"
   ]
  },
  {
   "cell_type": "code",
   "execution_count": 17,
   "id": "534d9b2b",
   "metadata": {},
   "outputs": [
    {
     "data": {
      "text/plain": [
       "188"
      ]
     },
     "execution_count": 17,
     "metadata": {},
     "output_type": "execute_result"
    }
   ],
   "source": [
    "# unique week starts\n",
    "data1['Week Start'].nunique()"
   ]
  },
  {
   "cell_type": "code",
   "execution_count": 18,
   "id": "13782d02",
   "metadata": {},
   "outputs": [
    {
     "data": {
      "text/plain": [
       "0"
      ]
     },
     "execution_count": 18,
     "metadata": {},
     "output_type": "execute_result"
    }
   ],
   "source": [
    "# number of missing values\n",
    "data1['Week Start'].isnull().sum()"
   ]
  },
  {
   "cell_type": "markdown",
   "id": "dbc25213",
   "metadata": {},
   "source": [
    "## c) Week End"
   ]
  },
  {
   "cell_type": "code",
   "execution_count": 19,
   "id": "86ce44eb",
   "metadata": {},
   "outputs": [
    {
     "data": {
      "text/plain": [
       "09/05/2020    60\n",
       "03/27/2021    60\n",
       "05/29/2021    60\n",
       "09/26/2020    60\n",
       "12/05/2020    60\n",
       "Name: Week End, dtype: int64"
      ]
     },
     "execution_count": 19,
     "metadata": {},
     "output_type": "execute_result"
    }
   ],
   "source": [
    "# top 5\n",
    "data1['Week End'].value_counts().sort_values(ascending = False)[0:5]"
   ]
  },
  {
   "cell_type": "code",
   "execution_count": 20,
   "id": "58e04954",
   "metadata": {},
   "outputs": [
    {
     "data": {
      "text/plain": [
       "188"
      ]
     },
     "execution_count": 20,
     "metadata": {},
     "output_type": "execute_result"
    }
   ],
   "source": [
    "# unique week ends\n",
    "data1['Week End'].nunique()"
   ]
  },
  {
   "cell_type": "code",
   "execution_count": 21,
   "id": "f382d040",
   "metadata": {},
   "outputs": [
    {
     "data": {
      "text/plain": [
       "0"
      ]
     },
     "execution_count": 21,
     "metadata": {},
     "output_type": "execute_result"
    }
   ],
   "source": [
    "# missing \n",
    "data1['Week End'].isnull().sum()"
   ]
  },
  {
   "cell_type": "markdown",
   "id": "2da8565a",
   "metadata": {},
   "source": [
    "# 2) Continuous"
   ]
  },
  {
   "cell_type": "markdown",
   "id": "0f0a8353",
   "metadata": {},
   "source": [
    "## a) Deaths - Cumulative"
   ]
  },
  {
   "cell_type": "code",
   "execution_count": 22,
   "id": "342ac50c",
   "metadata": {},
   "outputs": [
    {
     "name": "stdout",
     "output_type": "stream",
     "text": [
      "353\n"
     ]
    },
    {
     "data": {
      "text/plain": [
       "count    11280.000000\n",
       "mean       100.100532\n",
       "std         88.160690\n",
       "min          0.000000\n",
       "25%         18.000000\n",
       "50%         81.000000\n",
       "75%        159.000000\n",
       "max        359.000000\n",
       "Name: Deaths - Cumulative, dtype: float64"
      ]
     },
     "execution_count": 22,
     "metadata": {},
     "output_type": "execute_result"
    }
   ],
   "source": [
    "print(data1['Deaths - Cumulative'].nunique())\n",
    "data1['Deaths - Cumulative'].describe()"
   ]
  },
  {
   "cell_type": "code",
   "execution_count": 23,
   "id": "3b84397d",
   "metadata": {},
   "outputs": [
    {
     "data": {
      "text/plain": [
       "0"
      ]
     },
     "execution_count": 23,
     "metadata": {},
     "output_type": "execute_result"
    }
   ],
   "source": [
    "data1['Deaths - Cumulative'].isnull().sum()"
   ]
  },
  {
   "cell_type": "markdown",
   "id": "fec51e32",
   "metadata": {},
   "source": [
    "## b) Cases - Cumulative"
   ]
  },
  {
   "cell_type": "code",
   "execution_count": 24,
   "id": "eb62de93",
   "metadata": {},
   "outputs": [
    {
     "data": {
      "text/plain": [
       "count    11057.000000\n",
       "mean      7466.711947\n",
       "std       7036.270868\n",
       "min          5.000000\n",
       "25%       1568.000000\n",
       "50%       5563.000000\n",
       "75%      11205.000000\n",
       "max      35371.000000\n",
       "Name: Cases - Cumulative, dtype: float64"
      ]
     },
     "execution_count": 24,
     "metadata": {},
     "output_type": "execute_result"
    }
   ],
   "source": [
    "data1['Cases - Cumulative'].describe()"
   ]
  },
  {
   "cell_type": "code",
   "execution_count": 25,
   "id": "3f93106b",
   "metadata": {},
   "outputs": [
    {
     "data": {
      "text/plain": [
       "223"
      ]
     },
     "execution_count": 25,
     "metadata": {},
     "output_type": "execute_result"
    }
   ],
   "source": [
    "data1['Cases - Cumulative'].isnull().sum()\n",
    "#data1['Cases - Cumulative'].nunique()"
   ]
  },
  {
   "cell_type": "markdown",
   "id": "f1012399",
   "metadata": {},
   "source": [
    "## c) Population"
   ]
  },
  {
   "cell_type": "code",
   "execution_count": 26,
   "id": "5dd9c6a8",
   "metadata": {},
   "outputs": [
    {
     "data": {
      "text/plain": [
       "count     11280.000000\n",
       "mean      46230.216667\n",
       "std       26851.289021\n",
       "min           0.000000\n",
       "25%       28747.250000\n",
       "50%       44965.500000\n",
       "75%       67067.000000\n",
       "max      111850.000000\n",
       "Name: Population, dtype: float64"
      ]
     },
     "execution_count": 26,
     "metadata": {},
     "output_type": "execute_result"
    }
   ],
   "source": [
    "data1['Population'].describe()"
   ]
  },
  {
   "cell_type": "code",
   "execution_count": 27,
   "id": "7e637229",
   "metadata": {},
   "outputs": [
    {
     "data": {
      "text/plain": [
       "0"
      ]
     },
     "execution_count": 27,
     "metadata": {},
     "output_type": "execute_result"
    }
   ],
   "source": [
    "data1['Population'].isnull().sum()\n",
    "#data1['Population'].nunique()"
   ]
  },
  {
   "cell_type": "markdown",
   "id": "3f3b1c17",
   "metadata": {},
   "source": [
    "## d) Percent Tested Positive"
   ]
  },
  {
   "cell_type": "code",
   "execution_count": 28,
   "id": "63e416df",
   "metadata": {},
   "outputs": [
    {
     "data": {
      "text/plain": [
       "count    11280.000000\n",
       "mean         0.082012\n",
       "std          0.063570\n",
       "min          0.000000\n",
       "25%          0.000000\n",
       "50%          0.100000\n",
       "75%          0.100000\n",
       "max          0.500000\n",
       "Name: Percent Tested Positive - Cumulative, dtype: float64"
      ]
     },
     "execution_count": 28,
     "metadata": {},
     "output_type": "execute_result"
    }
   ],
   "source": [
    "data1['Percent Tested Positive - Cumulative'].describe()"
   ]
  },
  {
   "cell_type": "code",
   "execution_count": 29,
   "id": "869780b5",
   "metadata": {},
   "outputs": [
    {
     "data": {
      "text/plain": [
       "0"
      ]
     },
     "execution_count": 29,
     "metadata": {},
     "output_type": "execute_result"
    }
   ],
   "source": [
    "data1['Percent Tested Positive - Cumulative'].isnull().sum()"
   ]
  },
  {
   "cell_type": "code",
   "execution_count": null,
   "id": "63b405f0",
   "metadata": {},
   "outputs": [],
   "source": []
  }
 ],
 "metadata": {
  "kernelspec": {
   "display_name": "Python 3 (ipykernel)",
   "language": "python",
   "name": "python3"
  },
  "language_info": {
   "codemirror_mode": {
    "name": "ipython",
    "version": 3
   },
   "file_extension": ".py",
   "mimetype": "text/x-python",
   "name": "python",
   "nbconvert_exporter": "python",
   "pygments_lexer": "ipython3",
   "version": "3.11.4"
  }
 },
 "nbformat": 4,
 "nbformat_minor": 5
}
