{
 "cells": [
  {
   "cell_type": "raw",
   "id": "33dd6c4c",
   "metadata": {},
   "source": [
    "---\n",
    "title: \"Project proposal\"\n",
    "format: \n",
    "  html:\n",
    "    toc: true\n",
    "    toc-title: Contents\n",
    "    code-fold: show\n",
    "    self-contained: true\n",
    "jupyter: python3\n",
    "---"
   ]
  },
  {
   "cell_type": "markdown",
   "id": "0116f49b",
   "metadata": {},
   "source": [
    "## Instructions {-}\n",
    "\n",
    "1. Please answer the following questions as part of your project proposal.\n",
    "\n",
    "2. Write your answers in the *Markdown* cells of the Jupyter notebook. You don't need to write any code, but if you want to, you may use the *Code* cells.\n",
    "\n",
    "3. Use [Quarto](https://quarto.org/docs/output-formats/html-basics.html) to print the *.ipynb* file as HTML. You will need to open the command prompt, navigate to the directory containing the file, and use the command: `quarto render filename.ipynb --to html`. Submit the HTML file.\n",
    "\n",
    "4. The project proposal is worth 8 points, and is due on **17th October 2023 at 11:59 pm**. \n",
    "\n",
    "5. You must make one submission as a group, and not individually.\n",
    "\n",
    "6. Maintaining a GitHub repository is optional, though encouraged for the project.\n",
    "\n",
    "7. Share the link of your project’s GitHub repository on the [spreadsheet](https://docs.google.com/spreadsheets/d/1khao3unpj_vsx4kOSg_Zzo77YK1UWL2w73Oa0aAirOo/edit#gid=0)."
   ]
  },
  {
   "cell_type": "markdown",
   "id": "fe7ea9bb",
   "metadata": {},
   "source": [
    "# 1) Team name\n",
    "Mention your team name.\n",
    "\n",
    "*(0 points)*"
   ]
  },
  {
   "cell_type": "markdown",
   "id": "8d390165",
   "metadata": {},
   "source": [
    "JKMN (no L's)"
   ]
  },
  {
   "cell_type": "markdown",
   "id": "16fccc9b",
   "metadata": {},
   "source": [
    "# 2) Member names\n",
    "Mention the names of your team members.\n",
    "\n",
    "*(0 points)*"
   ]
  },
  {
   "cell_type": "markdown",
   "id": "38be8b6c",
   "metadata": {},
   "source": [
    "Kaylin Nguyen, Neerav Ravirala, Joanna Chi, Miriam Mei"
   ]
  },
  {
   "cell_type": "markdown",
   "id": "16c1a490",
   "metadata": {},
   "source": [
    "# 3) Topic\n",
    "Mention the topic of your course project.\n",
    "\n",
    "*(0 points)*"
   ]
  },
  {
   "cell_type": "markdown",
   "id": "cf9e79af",
   "metadata": {},
   "source": [
    "The topic of our course project is about COVID-19 Cases and Deaths in the Chicago area."
   ]
  },
  {
   "cell_type": "markdown",
   "id": "9403cdfb",
   "metadata": {},
   "source": [
    "# 4) Inspiration\n",
    "What inspired your team to choose this topic?\n",
    "\n",
    "*(0.1 points)*"
   ]
  },
  {
   "cell_type": "markdown",
   "id": "f51c64bf",
   "metadata": {},
   "source": [
    "We wanted to learn about COVID's impacts in our community."
   ]
  },
  {
   "cell_type": "markdown",
   "id": "51a7babb",
   "metadata": {},
   "source": [
    "# 5) EDA (Exploratory data analysis) questions\n",
    "\n",
    "Explain the questions to be answered in your course project. You must have 4 questions - one for each team member. Mention the name of the team member and the question that they will answer against it.\n",
    "\n",
    "*(0.4 points)*"
   ]
  },
  {
   "cell_type": "markdown",
   "id": "18470d96",
   "metadata": {},
   "source": [
    "1) Where are the most concentrated COVID-19 deaths in Chicago? (Neerav Ravirala) <-- CHANGE IT CHANGE IT CHANGE IT CHANGE IT\n",
    "2) What is the population distribution, and how does that affect the positive testing rates? (Kaylin Nguyen)\n",
    "3) How is positive testing rate correlated with death rate and is this changed across different areas of Chicago? (Joanna Chi)\n",
    "4) Create a heatmap that shows the relative concentration of COVID-related deaths by area of Chicago (for example, South Side, West Side, etc.). What regions have the most concentrated COVID-19 deaths in Chicago? (Miriam Mei)"
   ]
  },
  {
   "cell_type": "markdown",
   "id": "3eb2d4f2",
   "metadata": {},
   "source": [
    "# 6) Data \n",
    "\n",
    "What data sources will you use, and how will the data help answer the questions? Explain.\n",
    "\n",
    "If the data is open source, share the link of the data.\n",
    "\n",
    "What is the number of continuous variables, categorical variables, and observations in your dataset(s). If you are using multiple datasets, please provide the information for each dataset. When counting variables, count only those that have sufficient non-missing values, and will be useful.\n",
    "\n",
    "Which variable is the main variable of interest? For example, if you are analyzing election trends, then the variable consisting of number of votes may be the main variable of interest. If you are analyzing crime rate, the variable consisting of the number of crimes may be the main variable of interest.\n",
    "\n",
    "*Note: You cannot use any of the datasets mentioned [here](https://sites.google.com/view/stat303-1fall2023/project).*\n",
    "\n",
    "*(0.4 points)*"
   ]
  },
  {
   "cell_type": "markdown",
   "id": "c343769a",
   "metadata": {},
   "source": [
    "The data source that we will use is a COVID-19 Cases, Tests, and Deaths by ZIP Code in Chicago. The data will provide information about the weekly case rates, the death rates, the test rates, the week number, and ZIP code in order to answer our questions. \\\n",
    "\\\n",
    "The number of continuous variables: 15 \\\n",
    "The number of categorical variables: 5 \\\n",
    "Observations in our dataset: 11,280 \\\n",
    "The main variable of interest is: Percent Tested Positive - Weekly. We feel that this variable will give us the best understanding of community spread over time and thus paint a clearer picture of the devastating toll that COVID wreaked upon the Chicago area.\n"
   ]
  },
  {
   "cell_type": "markdown",
   "id": "cb8a845f",
   "metadata": {},
   "source": [
    "# 7) Stakeholders"
   ]
  },
  {
   "cell_type": "markdown",
   "id": "d39c782c",
   "metadata": {},
   "source": [
    "Who are the stakeholders, and how will your project benefit them? Explain.\n",
    "\n",
    "*(0.1 points)*"
   ]
  },
  {
   "cell_type": "markdown",
   "id": "6416a250",
   "metadata": {},
   "source": [
    "The stakeholders are the Chicago residents, Chicago government, us as informed residents, public health officials, social policy researchers. Our project will provide meaningful data that will be useful to people who are afflicted and will help inform/reshape our future health policies."
   ]
  }
 ],
 "metadata": {
  "kernelspec": {
   "display_name": "Python 3 (ipykernel)",
   "language": "python",
   "name": "python3"
  },
  "language_info": {
   "codemirror_mode": {
    "name": "ipython",
    "version": 3
   },
   "file_extension": ".py",
   "mimetype": "text/x-python",
   "name": "python",
   "nbconvert_exporter": "python",
   "pygments_lexer": "ipython3",
   "version": "3.10.9"
  }
 },
 "nbformat": 4,
 "nbformat_minor": 5
}
