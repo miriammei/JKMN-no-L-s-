{
 "cells": [
  {
   "cell_type": "raw",
   "id": "33dd6c4c",
   "metadata": {},
   "source": [
    "---\n",
    "title: \"Project Report\"\n",
    "subtitle: Team name\n",
    "author: Author 1, Author 2, Author 3, and Author 4 \n",
    "date: 12/04/2023\n",
    "number-sections: true\n",
    "abstract: _The ABSTRACT is to be in fully-justified italicized text at the top of the report, below the author information. The abstract section must summarise the four questions answered in the report, and the recommendations to the stakeholders based on the analysis. You may also briefly mention the results of the analysis that connect the questions to the recommendations. However, the abstract must not be more than 200 words in length_.\n",
    "format: \n",
    "  html:\n",
    "    toc: true\n",
    "    toc-title: Contents\n",
    "    code-fold: true\n",
    "    self-contained: true\n",
    "    font-size: 100%\n",
    "    toc-depth: 4\n",
    "    mainfont: serif\n",
    "jupyter: python3\n",
    "---"
   ]
  },
  {
   "cell_type": "markdown",
   "id": "aba5ee91",
   "metadata": {},
   "source": [
    "## Length of the report {-}\n",
    "The length of the report must be no more than 15 pages, when printed as PDF. However, there is no requirement on the minimum number of pages.\n",
    "\n",
    "**Delete this section from the report, when using this template.** \n",
    "\n",
    "You may put additional stuff as Appendix. You may refer to the Appendix in the main report to support your arguments. However, your appendix is unlikely to be checked while grading, unless the grader deems it necessary. The appendix and references will not be included in the page count, and there is no limit on the length of the appendix."
   ]
  },
  {
   "cell_type": "markdown",
   "id": "186dcc6d",
   "metadata": {},
   "source": [
    "## Code should be put separately in the code template {-}\n",
    "Your report should be in a research-paper like style. If there is something that can only be explained by showing the code, then you may put it, otherwise do not put the code in the report. We will check your code in the code template. \n",
    "\n",
    "However, feel free to write code that prints output and then hide the code using the *yaml* setting as shown in an example below *(in the EDA section)*\n",
    "\n",
    "**Delete this section from the report, when using this template.** "
   ]
  },
  {
   "cell_type": "markdown",
   "id": "31c156e9",
   "metadata": {},
   "source": [
    "## Abstract- Everyone"
   ]
  },
  {
   "cell_type": "markdown",
   "id": "0116f49b",
   "metadata": {},
   "source": [
    "## Background / Motivation- Jade\n",
    "\n",
    "What motivated you to work on this problem?\n",
    "\n",
    "Mention any background about the problem, if it is required to understand your analysis later on."
   ]
  },
  {
   "cell_type": "markdown",
   "id": "84ff1421",
   "metadata": {},
   "source": [
    "## Problem statement- Miriam\n",
    "\n",
    "Describe your four questions. Articulate your questions using absolutely no jargon. \n",
    "\n",
    "Our first question asked about how COVID cases and deaths changed on a weekly basis over the pandemic. This question looks at the weekly case and death rates over the course of the pandemic and analyzed how it varied. \n",
    "\n",
    "Our second question asked about how the positive testing rate is affected by population. This was done by comparing deaths against the number of cases and then separating the datapoints based on the population and year to visualize how they changed over time with population density.\n",
    "\n",
    "Our third question asked about what regions in Chicago had the most concentrated COVID deaths. This was observed by analyzing the number of deaths by the regions in Chicago. \n",
    "\n",
    "Our fourth question asked about how testing rates and positive test rates compared across different regions of Chicago. This was observed in different years."
   ]
  },
  {
   "cell_type": "markdown",
   "id": "38c7b95f",
   "metadata": {},
   "source": [
    "## Data sources- Kaylin\n",
    "What data did you use? Provide details about your data. Include links to data if you are using open-access data."
   ]
  },
  {
   "cell_type": "markdown",
   "id": "8c255035",
   "metadata": {},
   "source": [
    "## Stakeholders- Neerav\n",
    "Who cares? If you are successful, what difference will it make to them?"
   ]
  },
  {
   "cell_type": "markdown",
   "id": "fe7ea9bb",
   "metadata": {},
   "source": [
    "## Data quality check / cleaning / preparation- Jade & Miriam\n",
    "\n",
    "In a tabular form, show the distribution of values of each variable used in the analysis - for both categorical and continuous variables. Distribution of a categorical variable must include the number of missing values, the number of unique values, the frequency of all its levels. If a categorical variable has too many levels, you may just include the counts of the top 3-5 levels. \n",
    "\\\n",
    "\\\n",
    "\\\n",
    "\n",
    "\n",
    "Miriam's variables: ZIP code (to get regions), week start, week end, year, death - cumulative (to make death - normalized), population\n",
    "\n",
    "categorical: \n",
    "\n",
    "\\\n",
    "\\\n",
    "\\\n",
    "\n",
    "Kaylin's variables: population, percent tested positive - cumulative, week start, week end, year, cases - cumulative, deaths - cumulative\n",
    "\n",
    "\n",
    "\n",
    "\n",
    "\n",
    "\\\n",
    "\\\n",
    "\\\n",
    "\\\n",
    "Were there any potentially incorrect values of variables that required cleaning? If yes, how did you clean them? \n",
    "\n",
    "Did your analysis require any other kind of data preparation before it was ready to use?"
   ]
  },
  {
   "cell_type": "markdown",
   "id": "1a763165",
   "metadata": {},
   "source": [
    "| Variable            | Mean|Standard Deviation| Min | 25% | Median | 75% | Max | Missing |\n",
    "| -                   | -   |-------|---------|-|-|-|-|-|\n",
    "|Cases - Cumulative  |7466.71|7036.27 |5.00| 1568.00|5563.00|11205.00|35371.00|223|\n",
    "|Deaths - Cumulative |100.10|88.16|0.00|18.00|81.00|159.00|359.00|0|\n",
    "|Population|46230.22|26851.29|0.00|28747.25|44965.50|67067.00|111850.00|0|\n",
    "|Percent Tested Positive - Cumulative|0.08|0.06|0.00|0.00|0.10|0.10|0.50|0|\n",
    "|Test Rate - Weekly|3343.91|3321.53|0.00|1415.00|2538.00|4431.00|75755.00|0|\n",
    "|Percent Tested Positive - Weekly|0.06|0.08|0.00|0.00|0.00|0.10|1.00|0|\n",
    "|Deaths - Weekly|0.76|1.80|0.00|0.00|0.00|1.00|25.00|0|\n",
    "|Cases - Weekly|74.31|131.81|0.00|15.00|39.00|83.00|2212.00|223|"
   ]
  },
  {
<<<<<<< HEAD
   "cell_type": "code",
   "execution_count": 1,
   "id": "7562611f",
   "metadata": {},
   "outputs": [
    {
     "ename": "NameError",
     "evalue": "name 'pd' is not defined",
     "output_type": "error",
     "traceback": [
      "\u001b[0;31m---------------------------------------------------------------------------\u001b[0m",
      "\u001b[0;31mNameError\u001b[0m                                 Traceback (most recent call last)",
      "Cell \u001b[0;32mIn[1], line 2\u001b[0m\n\u001b[1;32m      1\u001b[0m categorical_data \u001b[38;5;241m=\u001b[39m [[\u001b[38;5;124m'\u001b[39m\u001b[38;5;124mZIP Code\u001b[39m\u001b[38;5;124m'\u001b[39m,[\u001b[38;5;124m'\u001b[39m\u001b[38;5;124m60632: 188\u001b[39m\u001b[38;5;124m'\u001b[39m, \u001b[38;5;124m'\u001b[39m\u001b[38;5;124m60601: 188\u001b[39m\u001b[38;5;124m'\u001b[39m, \u001b[38;5;124m'\u001b[39m\u001b[38;5;124m60613: 188\u001b[39m\u001b[38;5;124m'\u001b[39m, \u001b[38;5;124m'\u001b[39m\u001b[38;5;124m60611: 188\u001b[39m\u001b[38;5;124m'\u001b[39m, \u001b[38;5;124m'\u001b[39m\u001b[38;5;124m60602: 188\u001b[39m\u001b[38;5;124m'\u001b[39m], \u001b[38;5;124m'\u001b[39m\u001b[38;5;124m60\u001b[39m\u001b[38;5;124m'\u001b[39m, \u001b[38;5;124m'\u001b[39m\u001b[38;5;124m0\u001b[39m\u001b[38;5;124m'\u001b[39m]]\n\u001b[0;32m----> 2\u001b[0m df \u001b[38;5;241m=\u001b[39m pd\u001b[38;5;241m.\u001b[39mDataFrame(categorical_data, columns \u001b[38;5;241m=\u001b[39m [\u001b[38;5;124m'\u001b[39m\u001b[38;5;124mVariable Name\u001b[39m\u001b[38;5;124m'\u001b[39m, \u001b[38;5;124m'\u001b[39m\u001b[38;5;124mTop 5\u001b[39m\u001b[38;5;124m'\u001b[39m, \u001b[38;5;124m'\u001b[39m\u001b[38;5;124mUnique\u001b[39m\u001b[38;5;124m'\u001b[39m, \u001b[38;5;124m'\u001b[39m\u001b[38;5;124mMissing\u001b[39m\u001b[38;5;124m'\u001b[39m])\n\u001b[1;32m      4\u001b[0m \u001b[38;5;28;01mdef\u001b[39;00m \u001b[38;5;21mformat_zip_codes\u001b[39m(zip_codes):\n\u001b[1;32m      5\u001b[0m     \u001b[38;5;28;01mreturn\u001b[39;00m \u001b[38;5;124m'\u001b[39m\u001b[38;5;130;01m\\n\u001b[39;00m\u001b[38;5;124m'\u001b[39m\u001b[38;5;241m.\u001b[39mjoin(zip_codes)\n",
      "\u001b[0;31mNameError\u001b[0m: name 'pd' is not defined"
     ]
    }
   ],
   "source": [
    "categorical_data = [['ZIP Code',['60632: 188', '60601: 188', '60613: 188', '60611: 188', '60602: 188'], '60', '0']]\n",
    "df = pd.DataFrame(categorical_data, columns = ['Variable Name', 'Top 5', 'Unique', 'Missing'])\n",
    "\n",
    "def format_zip_codes(zip_codes):\n",
    "    return '\\n'.join(zip_codes)\n",
    "\n",
    "# Apply the custom function to the \"Top 5\" column for each row\n",
    "df['Top 5'] = df['Top 5'].apply(format_zip_codes)\n",
    "\n",
    "df"
   ]
  },
  {
=======
>>>>>>> e595ab6c3123362fd3ae7bb497c8bf44b15fdce9
   "cell_type": "markdown",
   "id": "d39c782c",
   "metadata": {},
   "source": [
    "## Exploratory Data Analysis- Neerav & Kaylin\n",
    "\n",
    "For each analysis:\n",
    "\n",
    "What did you do exactly? How did you solve the problem? Why did you think it would be successful? \n",
    "\n",
    "What problems did you anticipate? What problems did you encounter? Did the very first thing you tried work? \n",
    "\n",
    "Mention any code repositories (with citations) or other sources that you used, and specifically what changes you made to them for your project.\n",
    "\n",
    "Note that you can write code to publish the results of the code, but hide the code using the yaml setting `#|echo: false`. For example, the code below makes a plot, but the code itself is not published with Quarto in the report."
   ]
  },
  {
   "cell_type": "code",
   "execution_count": 1,
   "id": "2e36b1d2",
   "metadata": {},
   "outputs": [
    {
     "data": {
      "image/png": "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",
      "text/plain": [
       "<Figure size 640x480 with 1 Axes>"
      ]
     },
     "metadata": {},
     "output_type": "display_data"
    }
   ],
   "source": [
    "#| echo: false\n",
    "import matplotlib.pyplot as plt\n",
    "plt.plot(range(10));"
   ]
  },
  {
   "cell_type": "markdown",
   "id": "863e3664",
   "metadata": {},
   "source": [
    "### Analysis 1- Neerav\n",
    "*By \\<Name of person doing the analysis>*\n",
    "\n",
    "### Analysis 2- Kaylin\n",
    "*By \\<Name of person doing the analysis>*\n",
    "\n",
    "### Analysis 3- Miriam\n",
    "*By \\<Miriam Mei>*\n",
    "\n",
    "\n",
    "\n",
    "For my problem, I wanted to analyze which regions in Chicago had the most concentrated COVID deaths. I solved the problem by first grouping the regions by ZIP Code with Jade. I then normalized the 'Death Rate - Cumulative' by 'Population' in order to visualize the death rate without the influence of population size. Using the 'Chicago Region' and 'Death - Normalized' variable, I created a barplot that showed the death rate by region. I did the same to show the weekly death rate in the regions in Chicago by year. I thought this would be successful because I thought it was important to show where the most concentrated deaths occur in Chicago in order to allocate resources effectively for all Chicago policy makers. \n",
    "\n",
    "I also analyzed the weekly death rate data in certain Chicago regions by year in order to show how the issue of the concentrated deaths are persistent every year from 2020, so resources must be continuously allocated to the regions that are most afflicted if we want the problem to stop. Since the regions that are most afflicted also have high population sizes (as seen below), we need to shift our priorities accordingly if we are to ever have another pandemic.\n",
    "\n",
    "The problems that I anticipated were that I would need to create a separate 'Total Population' column separated by region in order to visualize how death rate could have also been affected by population size. However, I soon realized that it would be more effective to normalize the death rate by the 'Population' column in order to visualize the death rate by region in one barplot, rather than two separate barplots. This would allow for a more thorough understanding and easier analysis of death rate by the Chicago Region. \n",
    "\n",
    "The citations that I used for my analysis was: https://www.chicagomag.com/Chicago-Magazine/April-2006/The-Geography-of-Money/ in order to describe how the lower-income communities are the ones most affected by COVID. This information allows us to draw connections between income and death rate by Chicago Region in order for Chicago residents and policy makers to make more informed decisions on where medical resources should be allocated and where the areas in Chicago need to have more preventative health initiatives.\n",
    "\n",
    "\n",
    "### Analysis 4- Jade\n",
    "*By \\<Name of person doing the analysis>*"
   ]
  },
  {
   "cell_type": "code",
   "execution_count": 34,
   "id": "46631f04",
   "metadata": {},
   "outputs": [
    {
     "data": {
      "text/plain": [
       "Text(0.5, 1.0, 'Total Population of Chicago Regions')"
      ]
     },
     "execution_count": 34,
     "metadata": {},
     "output_type": "execute_result"
    },
    {
     "data": {
      "image/png": "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\n",
      "text/plain": [
       "<Figure size 2000x600 with 1 Axes>"
      ]
     },
     "metadata": {},
     "output_type": "display_data"
    }
   ],
   "source": [
    "#|echo: false\n",
    "\n",
    "import numpy as np\n",
    "import pandas as pd\n",
    "import seaborn as sns\n",
    "import matplotlib.pyplot as plt\n",
    "\n",
    "data = pd.read_csv('COVID-19_Cases__Tests__and_Deaths_by_ZIP_Code.csv')\n",
    "\n",
    "i = data.loc[data['ZIP Code'] == 'Unknown'].index\n",
    "data = data.drop(i)\n",
    "data['ZIP Code'] = pd.to_numeric(data['ZIP Code'])\n",
    "data = data.dropna()\n",
    "\n",
    "j = data.loc[data['ZIP Code'] == 60666].index\n",
    "data = data.drop(j)\n",
    "\n",
    "central_downtown = [60601,60602,60603,60604,60605,60606,60607,60611,60610,60642,60661,60654]\n",
    "far_north_side = [60626,60645,60659,60660,60646,60631,60656,60640,60625,60630]\n",
    "south_side = [60616, 60653, 60615, 60649, 60637,60827]\n",
    "southwest_side = [60609, 60621, 60636, 60632, 60629, 60638, 60652, 60620, 60655, 60643] \n",
    "southeast_side = [60619, 60617, 60628, 60633]\n",
    "north_side = [60614,60657,60613,60618,60647]\n",
    "northwest_side = [60641,60634,60707,60639,60622]\n",
    "west_side = [60608,60651,60644,60622,60612,60624,60623]\n",
    "\n",
    "\n",
    "regions = {'Central/Downtown': central_downtown, 'Far North Side': far_north_side, 'South Side': south_side, \\\n",
    "           'Southwest Side': southwest_side, 'Southeast Side': southeast_side, 'North Side': north_side, \\\n",
    "           'Northwest Side': northwest_side, 'West Side': west_side}\n",
    "\n",
    "data['Chicago Region'] = data['ZIP Code'].apply(lambda x: 'Central/Downtown' if x in central_downtown else \\\n",
    "                                               'Far North Side' if x in far_north_side else \\\n",
    "                                               'South Side' if x in south_side else \\\n",
    "                                               'Southwest Side' if x in southwest_side else \\\n",
    "                                               'Southeast Side' if x in southeast_side else \\\n",
    "                                               'North Side' if x in north_side else \\\n",
    "                                               'Northwest Side' if x in northwest_side else \\\n",
    "                                               'West Side' if x in west_side else x)\n",
    "\n",
    "\n",
    "total_population = {}\n",
    "total1 = []\n",
    "keys = []\n",
    "\n",
    "for key in regions:\n",
    "    filtered_data = data[data['ZIP Code'].isin(regions[key])]\n",
    "    agg = filtered_data.groupby('ZIP Code')['Population'].sum().reset_index()\n",
    "    total = agg['Population'].sum()\n",
    "    total_population[key] = total\n",
    "    total1.append(total)\n",
    "    keys.append(key)\n",
    "\n",
    "list_of_lists = [keys, total1]\n",
    "\n",
    "total_data = pd.DataFrame(list_of_lists).transpose()\n",
    "total_data.columns = ['Chicago Region', 'Total Population']\n",
    "total_data\n",
    "\n",
    "plt.figure(figsize = (20, 6))\n",
    "sns.barplot(data = total_data, x = 'Chicago Region', y = 'Total Population')\n",
    "plt.title('Total Population of Chicago Regions')"
   ]
  },
  {
   "cell_type": "markdown",
   "id": "f6026cb7",
   "metadata": {},
   "source": [
    "## Other sections\n",
    "\n",
    "You are welcome to introduce additional sections or subsections, if required, to address your questions in detail. For example, you may briefly discuss potential future work that the research community could focus on to make further progress in the direction of your project's topic."
   ]
  },
  {
   "cell_type": "markdown",
   "id": "62a185cb",
   "metadata": {},
   "source": [
    "## Conclusions- Everyone\n",
    "\n",
    "Do the individual analysis connect with each other to answer a bigger question? If yes, explain."
   ]
  },
  {
   "cell_type": "markdown",
   "id": "57e41b2a",
   "metadata": {},
   "source": [
    "## Recommendations to stakeholder(s)- Neerav\n",
    "What are the action items for the stakeholder(s) based on your analysis? Be as precise as possible. The stakeholder(s) are depending on you to come up with practically implementable recommendations, instead of having to think for themselves.\n",
    "\n",
    "Do the stakeholder(s) need to be aware about some limitations of your analysis? Can your analysis be directly used by the stakeholder(s) to obtain the expected benefit / make decisions, or do they need to do some further analysis based on their own, or do they need to repeat your analysis on a more recent data for the results to be applicable? "
   ]
  },
  {
   "cell_type": "markdown",
   "id": "00b1cafe",
   "metadata": {},
   "source": [
    "## References {-}"
   ]
  },
  {
   "cell_type": "markdown",
   "id": "ebdb1aad",
   "metadata": {},
   "source": [
    "List and number all bibliographical references. When referenced in the text, enclose the citation number in square brackets, for example [1].\n",
    "\n",
    "[1] Authors. The frobnicatable foo filter, 2014. Face and Gesture submission ID 324. Supplied as additional material\n",
    "fg324.pdf. 3\n"
   ]
  },
  {
   "cell_type": "markdown",
   "id": "5831751c",
   "metadata": {},
   "source": [
    "## Appendix {-}"
   ]
  },
  {
   "cell_type": "markdown",
   "id": "d13d374d",
   "metadata": {},
   "source": [
    "You may put additional stuff here as Appendix. You may refer to the Appendix in the main report to support your arguments. However, the appendix section is unlikely to be checked while grading, unless the grader deems it necessary."
   ]
  }
 ],
 "metadata": {
  "kernelspec": {
   "display_name": "Python 3 (ipykernel)",
   "language": "python",
   "name": "python3"
  },
  "language_info": {
   "codemirror_mode": {
    "name": "ipython",
    "version": 3
   },
   "file_extension": ".py",
   "mimetype": "text/x-python",
   "name": "python",
   "nbconvert_exporter": "python",
   "pygments_lexer": "ipython3",
   "version": "3.11.4"
  }
 },
 "nbformat": 4,
 "nbformat_minor": 5
}
