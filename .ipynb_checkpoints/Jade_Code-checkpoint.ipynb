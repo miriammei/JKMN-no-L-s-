{
 "cells": [
  {
   "cell_type": "raw",
   "id": "33dd6c4c",
   "metadata": {},
   "source": [
    "---\n",
    "title: \"Project Code\"\n",
    "subtitle: Team name\n",
    "author: Author 1, Author 2, Author 3, and Author 4 \n",
    "date: 12/04/2023\n",
    "number-sections: true\n",
    "abstract: _This file contains the code for the project on <>, as part of the STAT303-1 course in Fall 2023_.\n",
    "format: \n",
    "  html:\n",
    "    toc: true\n",
    "    toc-title: Contents\n",
    "    self-contained: true\n",
    "    font-size: 100%\n",
    "    toc-depth: 4\n",
    "    mainfont: serif\n",
    "jupyter: python3\n",
    "---"
   ]
  },
  {
   "cell_type": "code",
   "execution_count": 1,
   "id": "73955b80",
   "metadata": {},
   "outputs": [],
   "source": [
    "import pandas as pd\n",
    "import numpy as np\n",
    "import seaborn as sns\n",
    "sns.set_palette('colorblind')\n",
    "import matplotlib.pyplot as plt"
   ]
  },
  {
   "cell_type": "code",
   "execution_count": 2,
   "id": "ced56c1b",
   "metadata": {},
   "outputs": [
    {
     "data": {
      "text/html": [
       "<div>\n",
       "<style scoped>\n",
       "    .dataframe tbody tr th:only-of-type {\n",
       "        vertical-align: middle;\n",
       "    }\n",
       "\n",
       "    .dataframe tbody tr th {\n",
       "        vertical-align: top;\n",
       "    }\n",
       "\n",
       "    .dataframe thead th {\n",
       "        text-align: right;\n",
       "    }\n",
       "</style>\n",
       "<table border=\"1\" class=\"dataframe\">\n",
       "  <thead>\n",
       "    <tr style=\"text-align: right;\">\n",
       "      <th></th>\n",
       "      <th>ZIP Code</th>\n",
       "      <th>Week Number</th>\n",
       "      <th>Week Start</th>\n",
       "      <th>Week End</th>\n",
       "      <th>Cases - Weekly</th>\n",
       "      <th>Cases - Cumulative</th>\n",
       "      <th>Case Rate - Weekly</th>\n",
       "      <th>Case Rate - Cumulative</th>\n",
       "      <th>Tests - Weekly</th>\n",
       "      <th>Tests - Cumulative</th>\n",
       "      <th>...</th>\n",
       "      <th>Test Rate - Cumulative</th>\n",
       "      <th>Percent Tested Positive - Weekly</th>\n",
       "      <th>Percent Tested Positive - Cumulative</th>\n",
       "      <th>Deaths - Weekly</th>\n",
       "      <th>Deaths - Cumulative</th>\n",
       "      <th>Death Rate - Weekly</th>\n",
       "      <th>Death Rate - Cumulative</th>\n",
       "      <th>Population</th>\n",
       "      <th>Row ID</th>\n",
       "      <th>ZIP Code Location</th>\n",
       "    </tr>\n",
       "  </thead>\n",
       "  <tbody>\n",
       "    <tr>\n",
       "      <th>0</th>\n",
       "      <td>60632</td>\n",
       "      <td>36</td>\n",
       "      <td>08/30/2020</td>\n",
       "      <td>09/05/2020</td>\n",
       "      <td>117.0</td>\n",
       "      <td>4282.0</td>\n",
       "      <td>128.0</td>\n",
       "      <td>4703.5</td>\n",
       "      <td>1446.0</td>\n",
       "      <td>25164</td>\n",
       "      <td>...</td>\n",
       "      <td>27640.9</td>\n",
       "      <td>0.1</td>\n",
       "      <td>0.2</td>\n",
       "      <td>1</td>\n",
       "      <td>100</td>\n",
       "      <td>1.1</td>\n",
       "      <td>109.8</td>\n",
       "      <td>91039</td>\n",
       "      <td>60632-2020-36</td>\n",
       "      <td>POINT (-87.711251 41.810038)</td>\n",
       "    </tr>\n",
       "    <tr>\n",
       "      <th>1</th>\n",
       "      <td>60601</td>\n",
       "      <td>17</td>\n",
       "      <td>04/19/2020</td>\n",
       "      <td>04/25/2020</td>\n",
       "      <td>7.0</td>\n",
       "      <td>45.0</td>\n",
       "      <td>48.0</td>\n",
       "      <td>306.6</td>\n",
       "      <td>35.0</td>\n",
       "      <td>197</td>\n",
       "      <td>...</td>\n",
       "      <td>1342.4</td>\n",
       "      <td>0.1</td>\n",
       "      <td>0.1</td>\n",
       "      <td>1</td>\n",
       "      <td>2</td>\n",
       "      <td>6.8</td>\n",
       "      <td>13.6</td>\n",
       "      <td>14675</td>\n",
       "      <td>60601-2020-17</td>\n",
       "      <td>POINT (-87.622844 41.886262)</td>\n",
       "    </tr>\n",
       "    <tr>\n",
       "      <th>2</th>\n",
       "      <td>60632</td>\n",
       "      <td>39</td>\n",
       "      <td>09/20/2020</td>\n",
       "      <td>09/26/2020</td>\n",
       "      <td>107.0</td>\n",
       "      <td>4617.0</td>\n",
       "      <td>118.0</td>\n",
       "      <td>5071.5</td>\n",
       "      <td>1355.0</td>\n",
       "      <td>29203</td>\n",
       "      <td>...</td>\n",
       "      <td>32077.5</td>\n",
       "      <td>0.1</td>\n",
       "      <td>0.2</td>\n",
       "      <td>3</td>\n",
       "      <td>103</td>\n",
       "      <td>3.3</td>\n",
       "      <td>113.1</td>\n",
       "      <td>91039</td>\n",
       "      <td>60632-2020-39</td>\n",
       "      <td>POINT (-87.711251 41.810038)</td>\n",
       "    </tr>\n",
       "    <tr>\n",
       "      <th>3</th>\n",
       "      <td>60632</td>\n",
       "      <td>49</td>\n",
       "      <td>11/29/2020</td>\n",
       "      <td>12/05/2020</td>\n",
       "      <td>615.0</td>\n",
       "      <td>9447.0</td>\n",
       "      <td>676.0</td>\n",
       "      <td>10376.9</td>\n",
       "      <td>2884.0</td>\n",
       "      <td>53923</td>\n",
       "      <td>...</td>\n",
       "      <td>59230.7</td>\n",
       "      <td>0.3</td>\n",
       "      <td>0.2</td>\n",
       "      <td>6</td>\n",
       "      <td>135</td>\n",
       "      <td>6.6</td>\n",
       "      <td>148.3</td>\n",
       "      <td>91039</td>\n",
       "      <td>60632-2020-49</td>\n",
       "      <td>POINT (-87.711251 41.810038)</td>\n",
       "    </tr>\n",
       "    <tr>\n",
       "      <th>4</th>\n",
       "      <td>60632</td>\n",
       "      <td>50</td>\n",
       "      <td>12/06/2020</td>\n",
       "      <td>12/12/2020</td>\n",
       "      <td>581.0</td>\n",
       "      <td>10028.0</td>\n",
       "      <td>638.0</td>\n",
       "      <td>11015.1</td>\n",
       "      <td>2848.0</td>\n",
       "      <td>56771</td>\n",
       "      <td>...</td>\n",
       "      <td>62359.0</td>\n",
       "      <td>0.2</td>\n",
       "      <td>0.2</td>\n",
       "      <td>10</td>\n",
       "      <td>145</td>\n",
       "      <td>11.0</td>\n",
       "      <td>159.3</td>\n",
       "      <td>91039</td>\n",
       "      <td>60632-2020-50</td>\n",
       "      <td>POINT (-87.711251 41.810038)</td>\n",
       "    </tr>\n",
       "  </tbody>\n",
       "</table>\n",
       "<p>5 rows × 21 columns</p>\n",
       "</div>"
      ],
      "text/plain": [
       "  ZIP Code  Week Number  Week Start    Week End  Cases - Weekly  \\\n",
       "0    60632           36  08/30/2020  09/05/2020           117.0   \n",
       "1    60601           17  04/19/2020  04/25/2020             7.0   \n",
       "2    60632           39  09/20/2020  09/26/2020           107.0   \n",
       "3    60632           49  11/29/2020  12/05/2020           615.0   \n",
       "4    60632           50  12/06/2020  12/12/2020           581.0   \n",
       "\n",
       "   Cases - Cumulative  Case Rate - Weekly  Case Rate - Cumulative  \\\n",
       "0              4282.0               128.0                  4703.5   \n",
       "1                45.0                48.0                   306.6   \n",
       "2              4617.0               118.0                  5071.5   \n",
       "3              9447.0               676.0                 10376.9   \n",
       "4             10028.0               638.0                 11015.1   \n",
       "\n",
       "   Tests - Weekly  Tests - Cumulative  ...  Test Rate - Cumulative  \\\n",
       "0          1446.0               25164  ...                 27640.9   \n",
       "1            35.0                 197  ...                  1342.4   \n",
       "2          1355.0               29203  ...                 32077.5   \n",
       "3          2884.0               53923  ...                 59230.7   \n",
       "4          2848.0               56771  ...                 62359.0   \n",
       "\n",
       "   Percent Tested Positive - Weekly  Percent Tested Positive - Cumulative  \\\n",
       "0                               0.1                                   0.2   \n",
       "1                               0.1                                   0.1   \n",
       "2                               0.1                                   0.2   \n",
       "3                               0.3                                   0.2   \n",
       "4                               0.2                                   0.2   \n",
       "\n",
       "   Deaths - Weekly  Deaths - Cumulative  Death Rate - Weekly  \\\n",
       "0                1                  100                  1.1   \n",
       "1                1                    2                  6.8   \n",
       "2                3                  103                  3.3   \n",
       "3                6                  135                  6.6   \n",
       "4               10                  145                 11.0   \n",
       "\n",
       "   Death Rate - Cumulative  Population         Row ID  \\\n",
       "0                    109.8       91039  60632-2020-36   \n",
       "1                     13.6       14675  60601-2020-17   \n",
       "2                    113.1       91039  60632-2020-39   \n",
       "3                    148.3       91039  60632-2020-49   \n",
       "4                    159.3       91039  60632-2020-50   \n",
       "\n",
       "              ZIP Code Location  \n",
       "0  POINT (-87.711251 41.810038)  \n",
       "1  POINT (-87.622844 41.886262)  \n",
       "2  POINT (-87.711251 41.810038)  \n",
       "3  POINT (-87.711251 41.810038)  \n",
       "4  POINT (-87.711251 41.810038)  \n",
       "\n",
       "[5 rows x 21 columns]"
      ]
     },
     "execution_count": 2,
     "metadata": {},
     "output_type": "execute_result"
    }
   ],
   "source": [
    "data = pd.read_csv('COVID-19_Cases__Tests__and_Deaths_by_ZIP_Code.csv')\n",
    "data.head()"
   ]
  },
  {
   "cell_type": "markdown",
   "id": "fe7ea9bb",
   "metadata": {},
   "source": [
    "## Data quality check / cleaning / preparation \n",
    "\n",
    "Put code with comments. The comments should explain the code such that it can be easily understood. You may put text *(in a markdown cell)* before a large chunk of code to explain the overall purpose of the code, if it is not intuitive. **Put the name of the person / persons who contributed to each code chunk / set of code chunks.** An example is given below."
   ]
  },
  {
   "cell_type": "markdown",
   "id": "ff6b5e83",
   "metadata": {},
   "source": [
    "### Data cleaning\n",
    "*By Joanna Chi*"
   ]
  },
  {
   "cell_type": "code",
   "execution_count": 3,
   "id": "1429d375",
   "metadata": {},
   "outputs": [
    {
     "data": {
      "text/plain": [
       "(11280, 21)"
      ]
     },
     "execution_count": 3,
     "metadata": {},
     "output_type": "execute_result"
    }
   ],
   "source": [
    "# Look at how many rows in the data\n",
    "data.shape"
   ]
  },
  {
   "cell_type": "code",
   "execution_count": 4,
   "id": "25ddf4d3",
   "metadata": {},
   "outputs": [
    {
     "data": {
      "text/plain": [
       "ZIP Code                                  0\n",
       "Week Number                               0\n",
       "Week Start                                0\n",
       "Week End                                  0\n",
       "Cases - Weekly                          223\n",
       "Cases - Cumulative                      223\n",
       "Case Rate - Weekly                      223\n",
       "Case Rate - Cumulative                  223\n",
       "Tests - Weekly                          330\n",
       "Tests - Cumulative                        0\n",
       "Test Rate - Weekly                        0\n",
       "Test Rate - Cumulative                    0\n",
       "Percent Tested Positive - Weekly          0\n",
       "Percent Tested Positive - Cumulative      0\n",
       "Deaths - Weekly                           0\n",
       "Deaths - Cumulative                       0\n",
       "Death Rate - Weekly                       0\n",
       "Death Rate - Cumulative                   0\n",
       "Population                                0\n",
       "Row ID                                    0\n",
       "ZIP Code Location                       188\n",
       "dtype: int64"
      ]
     },
     "execution_count": 4,
     "metadata": {},
     "output_type": "execute_result"
    }
   ],
   "source": [
    "# Find the missing values in the dataset\n",
    "data.isnull().sum()"
   ]
  },
  {
   "cell_type": "code",
   "execution_count": 5,
   "id": "74af70d2",
   "metadata": {},
   "outputs": [
    {
     "data": {
      "text/plain": [
       "(10543, 21)"
      ]
     },
     "execution_count": 5,
     "metadata": {},
     "output_type": "execute_result"
    }
   ],
   "source": [
    "# Drop null values and see how many rows are left\n",
    "data = data.dropna()\n",
    "data.shape"
   ]
  },
  {
   "cell_type": "code",
   "execution_count": 6,
   "id": "dcbbe7a3",
   "metadata": {},
   "outputs": [
    {
     "data": {
      "text/plain": [
       "0.06533687943262412"
      ]
     },
     "execution_count": 6,
     "metadata": {},
     "output_type": "execute_result"
    }
   ],
   "source": [
    "(11280-10543)/11280\n",
    "# Dropped values are only about 6.5% of the data set, so we can remove them."
   ]
  },
  {
   "cell_type": "code",
   "execution_count": 7,
   "id": "bf17db8d",
   "metadata": {},
   "outputs": [
    {
     "data": {
      "text/html": [
       "<div>\n",
       "<style scoped>\n",
       "    .dataframe tbody tr th:only-of-type {\n",
       "        vertical-align: middle;\n",
       "    }\n",
       "\n",
       "    .dataframe tbody tr th {\n",
       "        vertical-align: top;\n",
       "    }\n",
       "\n",
       "    .dataframe thead th {\n",
       "        text-align: right;\n",
       "    }\n",
       "</style>\n",
       "<table border=\"1\" class=\"dataframe\">\n",
       "  <thead>\n",
       "    <tr style=\"text-align: right;\">\n",
       "      <th></th>\n",
       "      <th>ZIP Code</th>\n",
       "      <th>Week Number</th>\n",
       "      <th>Week Start</th>\n",
       "      <th>Week End</th>\n",
       "      <th>Cases - Weekly</th>\n",
       "      <th>Cases - Cumulative</th>\n",
       "      <th>Case Rate - Weekly</th>\n",
       "      <th>Case Rate - Cumulative</th>\n",
       "      <th>Tests - Weekly</th>\n",
       "      <th>Tests - Cumulative</th>\n",
       "      <th>Test Rate - Weekly</th>\n",
       "      <th>Test Rate - Cumulative</th>\n",
       "      <th>Percent Tested Positive - Weekly</th>\n",
       "      <th>Percent Tested Positive - Cumulative</th>\n",
       "      <th>Deaths - Weekly</th>\n",
       "      <th>Deaths - Cumulative</th>\n",
       "      <th>Death Rate - Weekly</th>\n",
       "      <th>Death Rate - Cumulative</th>\n",
       "      <th>Population</th>\n",
       "    </tr>\n",
       "  </thead>\n",
       "  <tbody>\n",
       "    <tr>\n",
       "      <th>0</th>\n",
       "      <td>60632</td>\n",
       "      <td>36</td>\n",
       "      <td>08/30/2020</td>\n",
       "      <td>09/05/2020</td>\n",
       "      <td>117.0</td>\n",
       "      <td>4282.0</td>\n",
       "      <td>128.0</td>\n",
       "      <td>4703.5</td>\n",
       "      <td>1446.0</td>\n",
       "      <td>25164</td>\n",
       "      <td>1588</td>\n",
       "      <td>27640.9</td>\n",
       "      <td>0.1</td>\n",
       "      <td>0.2</td>\n",
       "      <td>1</td>\n",
       "      <td>100</td>\n",
       "      <td>1.1</td>\n",
       "      <td>109.8</td>\n",
       "      <td>91039</td>\n",
       "    </tr>\n",
       "    <tr>\n",
       "      <th>1</th>\n",
       "      <td>60601</td>\n",
       "      <td>17</td>\n",
       "      <td>04/19/2020</td>\n",
       "      <td>04/25/2020</td>\n",
       "      <td>7.0</td>\n",
       "      <td>45.0</td>\n",
       "      <td>48.0</td>\n",
       "      <td>306.6</td>\n",
       "      <td>35.0</td>\n",
       "      <td>197</td>\n",
       "      <td>238</td>\n",
       "      <td>1342.4</td>\n",
       "      <td>0.1</td>\n",
       "      <td>0.1</td>\n",
       "      <td>1</td>\n",
       "      <td>2</td>\n",
       "      <td>6.8</td>\n",
       "      <td>13.6</td>\n",
       "      <td>14675</td>\n",
       "    </tr>\n",
       "    <tr>\n",
       "      <th>2</th>\n",
       "      <td>60632</td>\n",
       "      <td>39</td>\n",
       "      <td>09/20/2020</td>\n",
       "      <td>09/26/2020</td>\n",
       "      <td>107.0</td>\n",
       "      <td>4617.0</td>\n",
       "      <td>118.0</td>\n",
       "      <td>5071.5</td>\n",
       "      <td>1355.0</td>\n",
       "      <td>29203</td>\n",
       "      <td>1488</td>\n",
       "      <td>32077.5</td>\n",
       "      <td>0.1</td>\n",
       "      <td>0.2</td>\n",
       "      <td>3</td>\n",
       "      <td>103</td>\n",
       "      <td>3.3</td>\n",
       "      <td>113.1</td>\n",
       "      <td>91039</td>\n",
       "    </tr>\n",
       "    <tr>\n",
       "      <th>3</th>\n",
       "      <td>60632</td>\n",
       "      <td>49</td>\n",
       "      <td>11/29/2020</td>\n",
       "      <td>12/05/2020</td>\n",
       "      <td>615.0</td>\n",
       "      <td>9447.0</td>\n",
       "      <td>676.0</td>\n",
       "      <td>10376.9</td>\n",
       "      <td>2884.0</td>\n",
       "      <td>53923</td>\n",
       "      <td>3168</td>\n",
       "      <td>59230.7</td>\n",
       "      <td>0.3</td>\n",
       "      <td>0.2</td>\n",
       "      <td>6</td>\n",
       "      <td>135</td>\n",
       "      <td>6.6</td>\n",
       "      <td>148.3</td>\n",
       "      <td>91039</td>\n",
       "    </tr>\n",
       "    <tr>\n",
       "      <th>4</th>\n",
       "      <td>60632</td>\n",
       "      <td>50</td>\n",
       "      <td>12/06/2020</td>\n",
       "      <td>12/12/2020</td>\n",
       "      <td>581.0</td>\n",
       "      <td>10028.0</td>\n",
       "      <td>638.0</td>\n",
       "      <td>11015.1</td>\n",
       "      <td>2848.0</td>\n",
       "      <td>56771</td>\n",
       "      <td>3128</td>\n",
       "      <td>62359.0</td>\n",
       "      <td>0.2</td>\n",
       "      <td>0.2</td>\n",
       "      <td>10</td>\n",
       "      <td>145</td>\n",
       "      <td>11.0</td>\n",
       "      <td>159.3</td>\n",
       "      <td>91039</td>\n",
       "    </tr>\n",
       "  </tbody>\n",
       "</table>\n",
       "</div>"
      ],
      "text/plain": [
       "  ZIP Code  Week Number  Week Start    Week End  Cases - Weekly  \\\n",
       "0    60632           36  08/30/2020  09/05/2020           117.0   \n",
       "1    60601           17  04/19/2020  04/25/2020             7.0   \n",
       "2    60632           39  09/20/2020  09/26/2020           107.0   \n",
       "3    60632           49  11/29/2020  12/05/2020           615.0   \n",
       "4    60632           50  12/06/2020  12/12/2020           581.0   \n",
       "\n",
       "   Cases - Cumulative  Case Rate - Weekly  Case Rate - Cumulative  \\\n",
       "0              4282.0               128.0                  4703.5   \n",
       "1                45.0                48.0                   306.6   \n",
       "2              4617.0               118.0                  5071.5   \n",
       "3              9447.0               676.0                 10376.9   \n",
       "4             10028.0               638.0                 11015.1   \n",
       "\n",
       "   Tests - Weekly  Tests - Cumulative  Test Rate - Weekly  \\\n",
       "0          1446.0               25164                1588   \n",
       "1            35.0                 197                 238   \n",
       "2          1355.0               29203                1488   \n",
       "3          2884.0               53923                3168   \n",
       "4          2848.0               56771                3128   \n",
       "\n",
       "   Test Rate - Cumulative  Percent Tested Positive - Weekly  \\\n",
       "0                 27640.9                               0.1   \n",
       "1                  1342.4                               0.1   \n",
       "2                 32077.5                               0.1   \n",
       "3                 59230.7                               0.3   \n",
       "4                 62359.0                               0.2   \n",
       "\n",
       "   Percent Tested Positive - Cumulative  Deaths - Weekly  Deaths - Cumulative  \\\n",
       "0                                   0.2                1                  100   \n",
       "1                                   0.1                1                    2   \n",
       "2                                   0.2                3                  103   \n",
       "3                                   0.2                6                  135   \n",
       "4                                   0.2               10                  145   \n",
       "\n",
       "   Death Rate - Weekly  Death Rate - Cumulative  Population  \n",
       "0                  1.1                    109.8       91039  \n",
       "1                  6.8                     13.6       14675  \n",
       "2                  3.3                    113.1       91039  \n",
       "3                  6.6                    148.3       91039  \n",
       "4                 11.0                    159.3       91039  "
      ]
     },
     "execution_count": 7,
     "metadata": {},
     "output_type": "execute_result"
    }
   ],
   "source": [
    "# Remove the \"Row ID\" and \"ZIP Code Location\" columns because we don't need them in our analysis\n",
    "data = data.drop(['Row ID','ZIP Code Location'],axis=1)\n",
    "data.head()"
   ]
  },
  {
   "cell_type": "code",
   "execution_count": 8,
   "id": "2830aae7",
   "metadata": {},
   "outputs": [
    {
     "data": {
      "text/plain": [
       "ZIP Code                                 object\n",
       "Week Number                               int64\n",
       "Week Start                               object\n",
       "Week End                                 object\n",
       "Cases - Weekly                          float64\n",
       "Cases - Cumulative                      float64\n",
       "Case Rate - Weekly                      float64\n",
       "Case Rate - Cumulative                  float64\n",
       "Tests - Weekly                          float64\n",
       "Tests - Cumulative                        int64\n",
       "Test Rate - Weekly                        int64\n",
       "Test Rate - Cumulative                  float64\n",
       "Percent Tested Positive - Weekly        float64\n",
       "Percent Tested Positive - Cumulative    float64\n",
       "Deaths - Weekly                           int64\n",
       "Deaths - Cumulative                       int64\n",
       "Death Rate - Weekly                     float64\n",
       "Death Rate - Cumulative                 float64\n",
       "Population                                int64\n",
       "dtype: object"
      ]
     },
     "execution_count": 8,
     "metadata": {},
     "output_type": "execute_result"
    }
   ],
   "source": [
    "# Check the datatypes of each variable to see if there are any we need to fix\n",
    "data.dtypes"
   ]
  },
  {
   "cell_type": "code",
   "execution_count": 9,
   "id": "a35489ac",
   "metadata": {},
   "outputs": [],
   "source": [
    "# We need to change \"Week Start\" and \"Week End\" from object to datetime, and to change ZIP Code from object to numeric\n",
    "data['Week Start'] = pd.to_datetime(data['Week Start'])\n",
    "data['Week End'] = pd.to_datetime(data['Week End'])\n",
    "data['ZIP Code'] = pd.to_numeric(data['ZIP Code'])"
   ]
  },
  {
   "cell_type": "code",
   "execution_count": 10,
   "id": "51f55efb",
   "metadata": {},
   "outputs": [],
   "source": [
    "# Finally, we found that the ZIP code 60666 only contained the airport and no residents, so we chose to remove it\n",
    "data = data.drop(data.loc[data['ZIP Code'] == 60666].index)"
   ]
  },
  {
   "cell_type": "markdown",
   "id": "424479b5",
   "metadata": {},
   "source": [
    "### Data preparation\n",
    "*By Ryu Kimiko*\n",
    "\n",
    "The following data preparation steps helped us to prepare our data for implementing various modeling / validation techniques:\n",
    "\n",
    "1. Since we need are analyzing house price, we derived some new variables *(from existing variables)* that intuitively seem to be associated with house price. \n",
    "\n",
    "2. We have created a standardized version of the dataset, as we are computing Euclidean distances to find houses similar to a given house"
   ]
  },
  {
   "cell_type": "code",
   "execution_count": 11,
   "id": "bde6859d",
   "metadata": {},
   "outputs": [],
   "source": [
    "######---------------Creating new predictors----------------#########\n",
    "\n",
    "#Creating number of bedrooms per unit floor area\n",
    "\n",
    "#Creating ratio of bathrooms to bedrooms\n",
    "\n",
    "#Creating ratio of carpet area to floor area"
   ]
  },
  {
   "cell_type": "code",
   "execution_count": 12,
   "id": "edf0986d",
   "metadata": {},
   "outputs": [],
   "source": [
    "######-----Standardizing the dataset for Lasso / Ridge-------#########"
   ]
  },
  {
   "cell_type": "markdown",
   "id": "fbb11c9b",
   "metadata": {},
   "source": [
    "## Exploratory data analysis"
   ]
  },
  {
   "cell_type": "markdown",
   "id": "e4bd74a9",
   "metadata": {},
   "source": [
    "Put code with comments. The comments should explain the code such that it can be easily understood. You may put text *(in a markdown cell)* before a large chunk of code to explain the overall purpose of the code, if it is not intuitive. **Put the name of the person / persons who contributed to each code chunk / set of code chunks.**"
   ]
  },
  {
   "cell_type": "markdown",
   "id": "e2cc5c7f",
   "metadata": {},
   "source": [
    "### Analysis 1\n",
    "*By \\<Name of person doing the analysis>*"
   ]
  },
  {
   "cell_type": "markdown",
   "id": "1b80efcc",
   "metadata": {},
   "source": [
    "### Analysis 2\n",
    "*By \\<Name of person doing the analysis>*"
   ]
  },
  {
   "cell_type": "markdown",
   "id": "0f2266f4",
   "metadata": {},
   "source": [
    "### Analysis 3\n",
    "*By \\<Name of person doing the analysis>*"
   ]
  },
  {
   "cell_type": "markdown",
   "id": "796df2f5",
   "metadata": {},
   "source": [
    "### Analysis 4\n",
    "*By \\<Joanna Chi>*\n",
    "\n",
    "How do testing rates and positive test rates vary across different regions of Chicago?"
   ]
  },
  {
   "cell_type": "code",
   "execution_count": null,
   "id": "25504f79",
   "metadata": {},
   "outputs": [],
   "source": [
    "# Barplot visualizing test rates by region and year\n",
    "a = sns.barplot(data, x='Chicago Region',y='Test Rate - Weekly',hue='Year')\n",
    "a.figure.set_figwidth(15)\n",
    "a.set_title('Mean Testing Rates Across Chicago')\n",
    "plt.xlabel('Chicago Area')\n",
    "plt.ylabel('Test Rates')\n",
    "plt.show()"
   ]
  },
  {
   "cell_type": "code",
   "execution_count": null,
   "id": "0d240b11",
   "metadata": {},
   "outputs": [],
   "source": [
    "# Barplot visualizing positivity rates by region and year\n",
    "a = sns.barplot(data, x='Chicago Region',y='Percent Tested Positive - Weekly',hue='Year')\n",
    "plt.xlabel('Chicago Area')\n",
    "plt.ylabel('Percent Tested Positive')\n",
    "a.figure.set_figwidth(15)\n",
    "a.set_title('Mean Positive Test Rates Across Chicago')\n",
    "plt.show()"
   ]
  },
  {
   "cell_type": "markdown",
   "id": "acab331a",
   "metadata": {},
   "source": [
    "## Other sections"
   ]
  },
  {
   "cell_type": "markdown",
   "id": "ae5ec4c9",
   "metadata": {},
   "source": [
    "Put code with comments. The comments should explain the code such that it can be easily understood. You may put text *(in a markdown cell)* before a large chunk of code to explain the overall purpose of the code, if it is not intuitive. **Put the name of the person / persons who contributed to each code chunk / set of code chunks.**\n",
    "\n",
    "Put each model in a section of its name and mention the name of the team-member tuning the model. Below is an example:"
   ]
  },
  {
   "cell_type": "markdown",
   "id": "62a185cb",
   "metadata": {},
   "source": [
    "## Conclusions and Recommendations to stakeholder(s)\n",
    "\n",
    "You may or may not have code to put in this section. Delete this section if it is irrelevant."
   ]
  }
 ],
 "metadata": {
  "kernelspec": {
   "display_name": "Python 3 (ipykernel)",
   "language": "python",
   "name": "python3"
  },
  "language_info": {
   "codemirror_mode": {
    "name": "ipython",
    "version": 3
   },
   "file_extension": ".py",
   "mimetype": "text/x-python",
   "name": "python",
   "nbconvert_exporter": "python",
   "pygments_lexer": "ipython3",
   "version": "3.9.13"
  }
 },
 "nbformat": 4,
 "nbformat_minor": 5
}
